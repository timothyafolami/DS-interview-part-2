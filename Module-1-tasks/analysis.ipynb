{
 "cells": [
  {
   "cell_type": "markdown",
   "metadata": {},
   "source": [
    "## Libs "
   ]
  },
  {
   "cell_type": "code",
   "execution_count": 1,
   "metadata": {},
   "outputs": [],
   "source": [
    "import pandas as pd\n",
    "import numpy as np\n",
    "import matplotlib.pyplot as plt"
   ]
  },
  {
   "cell_type": "markdown",
   "metadata": {},
   "source": [
    "## Data Exploration"
   ]
  },
  {
   "cell_type": "code",
   "execution_count": 2,
   "metadata": {},
   "outputs": [
    {
     "data": {
      "text/html": [
       "<div>\n",
       "<style scoped>\n",
       "    .dataframe tbody tr th:only-of-type {\n",
       "        vertical-align: middle;\n",
       "    }\n",
       "\n",
       "    .dataframe tbody tr th {\n",
       "        vertical-align: top;\n",
       "    }\n",
       "\n",
       "    .dataframe thead th {\n",
       "        text-align: right;\n",
       "    }\n",
       "</style>\n",
       "<table border=\"1\" class=\"dataframe\">\n",
       "  <thead>\n",
       "    <tr style=\"text-align: right;\">\n",
       "      <th></th>\n",
       "      <th>InvoiceNo</th>\n",
       "      <th>StockCode</th>\n",
       "      <th>Description</th>\n",
       "      <th>Quantity</th>\n",
       "      <th>InvoiceDate</th>\n",
       "      <th>UnitPrice</th>\n",
       "      <th>CustomerID</th>\n",
       "      <th>Country</th>\n",
       "    </tr>\n",
       "  </thead>\n",
       "  <tbody>\n",
       "    <tr>\n",
       "      <th>0</th>\n",
       "      <td>536365</td>\n",
       "      <td>ö85123A^</td>\n",
       "      <td>WHITE HANGING HEART T-LIGHT HOLDER</td>\n",
       "      <td>6</td>\n",
       "      <td>2010-12-01 08:26:00</td>\n",
       "      <td>Ww2.55</td>\n",
       "      <td>&amp;17850.0#</td>\n",
       "      <td>United Kingdom</td>\n",
       "    </tr>\n",
       "    <tr>\n",
       "      <th>1</th>\n",
       "      <td>536365</td>\n",
       "      <td>ö71053^</td>\n",
       "      <td>WHITE METAL LANTERN</td>\n",
       "      <td>6</td>\n",
       "      <td>2010-12-01 08:26:00</td>\n",
       "      <td>3.39</td>\n",
       "      <td>17850.0</td>\n",
       "      <td>XxYUnited Kingdom☺️</td>\n",
       "    </tr>\n",
       "    <tr>\n",
       "      <th>2</th>\n",
       "      <td>536365</td>\n",
       "      <td>84406B</td>\n",
       "      <td>CREAM CUPID HEARTS COAT HANGER</td>\n",
       "      <td>8</td>\n",
       "      <td>2010-12-01 08:26:00</td>\n",
       "      <td>2.75</td>\n",
       "      <td>17850.0</td>\n",
       "      <td>United Kingdom</td>\n",
       "    </tr>\n",
       "    <tr>\n",
       "      <th>3</th>\n",
       "      <td>536365ä</td>\n",
       "      <td>ö84029G^</td>\n",
       "      <td>KNITTED UNION FLAG HOT WATER BOTTLE</td>\n",
       "      <td>6</td>\n",
       "      <td>2010-12-01 08:26:00</td>\n",
       "      <td>Ww3.39</td>\n",
       "      <td>17850.0</td>\n",
       "      <td>XxYUnited Kingdom☺️</td>\n",
       "    </tr>\n",
       "    <tr>\n",
       "      <th>4</th>\n",
       "      <td>536365</td>\n",
       "      <td>84029E</td>\n",
       "      <td>$RED WOOLLY HOTTIE WHITE HEART.</td>\n",
       "      <td>6</td>\n",
       "      <td>2010-12-01 08:26:00</td>\n",
       "      <td>Ww3.39</td>\n",
       "      <td>&amp;17850.0#</td>\n",
       "      <td>XxYUnited Kingdom☺️</td>\n",
       "    </tr>\n",
       "    <tr>\n",
       "      <th>5</th>\n",
       "      <td>536365</td>\n",
       "      <td>22752</td>\n",
       "      <td>$SET 7 BABUSHKA NESTING BOXES</td>\n",
       "      <td>2</td>\n",
       "      <td>2010-12-01 08:26:00</td>\n",
       "      <td>7.65</td>\n",
       "      <td>17850.0</td>\n",
       "      <td>XxYUnited Kingdom☺️</td>\n",
       "    </tr>\n",
       "    <tr>\n",
       "      <th>6</th>\n",
       "      <td>536365ä</td>\n",
       "      <td>21730</td>\n",
       "      <td>$GLASS STAR FROSTED T-LIGHT HOLDER</td>\n",
       "      <td>6</td>\n",
       "      <td>2010-12-01 08:26:00</td>\n",
       "      <td>4.25</td>\n",
       "      <td>&amp;17850.0#</td>\n",
       "      <td>XxYUnited Kingdom☺️</td>\n",
       "    </tr>\n",
       "    <tr>\n",
       "      <th>7</th>\n",
       "      <td>536366</td>\n",
       "      <td>ö22633^</td>\n",
       "      <td>$HAND WARMER UNION JACK</td>\n",
       "      <td>6</td>\n",
       "      <td>2010-12-01 08:28:00</td>\n",
       "      <td>1.85</td>\n",
       "      <td>17850.0</td>\n",
       "      <td>XxYUnited Kingdom☺️</td>\n",
       "    </tr>\n",
       "    <tr>\n",
       "      <th>8</th>\n",
       "      <td>536366ä</td>\n",
       "      <td>ö22632^</td>\n",
       "      <td>$HAND WARMER RED POLKA DOT</td>\n",
       "      <td>6</td>\n",
       "      <td>2010-12-01 08:28:00</td>\n",
       "      <td>1.85</td>\n",
       "      <td>&amp;17850.0#</td>\n",
       "      <td>United Kingdom</td>\n",
       "    </tr>\n",
       "    <tr>\n",
       "      <th>9</th>\n",
       "      <td>536367ä</td>\n",
       "      <td>84879</td>\n",
       "      <td>ASSORTED COLOUR BIRD ORNAMENT</td>\n",
       "      <td>32</td>\n",
       "      <td>2010-12-01 08:34:00</td>\n",
       "      <td>1.69</td>\n",
       "      <td>13047.0</td>\n",
       "      <td>XxYUnited Kingdom☺️</td>\n",
       "    </tr>\n",
       "  </tbody>\n",
       "</table>\n",
       "</div>"
      ],
      "text/plain": [
       "  InvoiceNo StockCode                          Description Quantity  \\\n",
       "0    536365  ö85123A^   WHITE HANGING HEART T-LIGHT HOLDER        6   \n",
       "1    536365   ö71053^                  WHITE METAL LANTERN        6   \n",
       "2    536365    84406B       CREAM CUPID HEARTS COAT HANGER        8   \n",
       "3   536365ä  ö84029G^  KNITTED UNION FLAG HOT WATER BOTTLE        6   \n",
       "4    536365    84029E      $RED WOOLLY HOTTIE WHITE HEART.        6   \n",
       "5    536365     22752        $SET 7 BABUSHKA NESTING BOXES        2   \n",
       "6   536365ä     21730   $GLASS STAR FROSTED T-LIGHT HOLDER        6   \n",
       "7    536366   ö22633^              $HAND WARMER UNION JACK        6   \n",
       "8   536366ä   ö22632^           $HAND WARMER RED POLKA DOT        6   \n",
       "9   536367ä     84879        ASSORTED COLOUR BIRD ORNAMENT       32   \n",
       "\n",
       "           InvoiceDate UnitPrice CustomerID              Country  \n",
       "0  2010-12-01 08:26:00    Ww2.55  &17850.0#       United Kingdom  \n",
       "1  2010-12-01 08:26:00      3.39    17850.0  XxYUnited Kingdom☺️  \n",
       "2  2010-12-01 08:26:00      2.75    17850.0       United Kingdom  \n",
       "3  2010-12-01 08:26:00    Ww3.39    17850.0  XxYUnited Kingdom☺️  \n",
       "4  2010-12-01 08:26:00    Ww3.39  &17850.0#  XxYUnited Kingdom☺️  \n",
       "5  2010-12-01 08:26:00      7.65    17850.0  XxYUnited Kingdom☺️  \n",
       "6  2010-12-01 08:26:00      4.25  &17850.0#  XxYUnited Kingdom☺️  \n",
       "7  2010-12-01 08:28:00      1.85    17850.0  XxYUnited Kingdom☺️  \n",
       "8  2010-12-01 08:28:00      1.85  &17850.0#       United Kingdom  \n",
       "9  2010-12-01 08:34:00      1.69    13047.0  XxYUnited Kingdom☺️  "
      ]
     },
     "execution_count": 2,
     "metadata": {},
     "output_type": "execute_result"
    }
   ],
   "source": [
    "data = pd.read_csv('../data/dataset.csv')\n",
    "data.head(10)"
   ]
  },
  {
   "cell_type": "code",
   "execution_count": 3,
   "metadata": {},
   "outputs": [
    {
     "data": {
      "text/plain": [
       "(541909, 8)"
      ]
     },
     "execution_count": 3,
     "metadata": {},
     "output_type": "execute_result"
    }
   ],
   "source": [
    "data.shape"
   ]
  },
  {
   "cell_type": "code",
   "execution_count": 4,
   "metadata": {},
   "outputs": [
    {
     "data": {
      "text/plain": [
       "InvoiceNo           0\n",
       "StockCode           0\n",
       "Description      1006\n",
       "Quantity            0\n",
       "InvoiceDate         0\n",
       "UnitPrice           0\n",
       "CustomerID     108047\n",
       "Country             0\n",
       "dtype: int64"
      ]
     },
     "execution_count": 4,
     "metadata": {},
     "output_type": "execute_result"
    }
   ],
   "source": [
    "data.isna().sum()"
   ]
  },
  {
   "cell_type": "code",
   "execution_count": 5,
   "metadata": {},
   "outputs": [
    {
     "data": {
      "text/plain": [
       "113"
      ]
     },
     "execution_count": 5,
     "metadata": {},
     "output_type": "execute_result"
    }
   ],
   "source": [
    "data.duplicated().sum()"
   ]
  },
  {
   "cell_type": "code",
   "execution_count": 6,
   "metadata": {},
   "outputs": [
    {
     "name": "stdout",
     "output_type": "stream",
     "text": [
      "<class 'pandas.core.frame.DataFrame'>\n",
      "RangeIndex: 541909 entries, 0 to 541908\n",
      "Data columns (total 8 columns):\n",
      " #   Column       Non-Null Count   Dtype \n",
      "---  ------       --------------   ----- \n",
      " 0   InvoiceNo    541909 non-null  object\n",
      " 1   StockCode    541909 non-null  object\n",
      " 2   Description  540903 non-null  object\n",
      " 3   Quantity     541909 non-null  object\n",
      " 4   InvoiceDate  541909 non-null  object\n",
      " 5   UnitPrice    541909 non-null  object\n",
      " 6   CustomerID   433862 non-null  object\n",
      " 7   Country      541909 non-null  object\n",
      "dtypes: object(8)\n",
      "memory usage: 33.1+ MB\n"
     ]
    }
   ],
   "source": [
    "data.info()"
   ]
  },
  {
   "cell_type": "code",
   "execution_count": 7,
   "metadata": {},
   "outputs": [
    {
     "data": {
      "text/plain": [
       "InvoiceNo      44670\n",
       "StockCode       7813\n",
       "Description     7948\n",
       "Quantity        1064\n",
       "InvoiceDate    23260\n",
       "UnitPrice       2023\n",
       "CustomerID      8472\n",
       "Country           76\n",
       "dtype: int64"
      ]
     },
     "execution_count": 7,
     "metadata": {},
     "output_type": "execute_result"
    }
   ],
   "source": [
    "data.nunique()"
   ]
  },
  {
   "cell_type": "markdown",
   "metadata": {},
   "source": [
    "## Data Cleaning"
   ]
  },
  {
   "cell_type": "code",
   "execution_count": 8,
   "metadata": {},
   "outputs": [],
   "source": [
    "# initially removing the duplicates from the data\n",
    "data_1 = data.drop_duplicates().reset_index(drop=True)"
   ]
  },
  {
   "cell_type": "code",
   "execution_count": 9,
   "metadata": {},
   "outputs": [
    {
     "data": {
      "text/html": [
       "<div>\n",
       "<style scoped>\n",
       "    .dataframe tbody tr th:only-of-type {\n",
       "        vertical-align: middle;\n",
       "    }\n",
       "\n",
       "    .dataframe tbody tr th {\n",
       "        vertical-align: top;\n",
       "    }\n",
       "\n",
       "    .dataframe thead th {\n",
       "        text-align: right;\n",
       "    }\n",
       "</style>\n",
       "<table border=\"1\" class=\"dataframe\">\n",
       "  <thead>\n",
       "    <tr style=\"text-align: right;\">\n",
       "      <th></th>\n",
       "      <th>InvoiceNo</th>\n",
       "      <th>StockCode</th>\n",
       "      <th>Description</th>\n",
       "      <th>Quantity</th>\n",
       "      <th>InvoiceDate</th>\n",
       "      <th>UnitPrice</th>\n",
       "      <th>CustomerID</th>\n",
       "      <th>Country</th>\n",
       "    </tr>\n",
       "  </thead>\n",
       "  <tbody>\n",
       "    <tr>\n",
       "      <th>0</th>\n",
       "      <td>536365</td>\n",
       "      <td>ö85123A^</td>\n",
       "      <td>WHITE HANGING HEART T-LIGHT HOLDER</td>\n",
       "      <td>6</td>\n",
       "      <td>2010-12-01 08:26:00</td>\n",
       "      <td>Ww2.55</td>\n",
       "      <td>&amp;17850.0#</td>\n",
       "      <td>United Kingdom</td>\n",
       "    </tr>\n",
       "    <tr>\n",
       "      <th>1</th>\n",
       "      <td>536365</td>\n",
       "      <td>ö71053^</td>\n",
       "      <td>WHITE METAL LANTERN</td>\n",
       "      <td>6</td>\n",
       "      <td>2010-12-01 08:26:00</td>\n",
       "      <td>3.39</td>\n",
       "      <td>17850.0</td>\n",
       "      <td>XxYUnited Kingdom☺️</td>\n",
       "    </tr>\n",
       "    <tr>\n",
       "      <th>2</th>\n",
       "      <td>536365</td>\n",
       "      <td>84406B</td>\n",
       "      <td>CREAM CUPID HEARTS COAT HANGER</td>\n",
       "      <td>8</td>\n",
       "      <td>2010-12-01 08:26:00</td>\n",
       "      <td>2.75</td>\n",
       "      <td>17850.0</td>\n",
       "      <td>United Kingdom</td>\n",
       "    </tr>\n",
       "    <tr>\n",
       "      <th>3</th>\n",
       "      <td>536365ä</td>\n",
       "      <td>ö84029G^</td>\n",
       "      <td>KNITTED UNION FLAG HOT WATER BOTTLE</td>\n",
       "      <td>6</td>\n",
       "      <td>2010-12-01 08:26:00</td>\n",
       "      <td>Ww3.39</td>\n",
       "      <td>17850.0</td>\n",
       "      <td>XxYUnited Kingdom☺️</td>\n",
       "    </tr>\n",
       "    <tr>\n",
       "      <th>4</th>\n",
       "      <td>536365</td>\n",
       "      <td>84029E</td>\n",
       "      <td>$RED WOOLLY HOTTIE WHITE HEART.</td>\n",
       "      <td>6</td>\n",
       "      <td>2010-12-01 08:26:00</td>\n",
       "      <td>Ww3.39</td>\n",
       "      <td>&amp;17850.0#</td>\n",
       "      <td>XxYUnited Kingdom☺️</td>\n",
       "    </tr>\n",
       "  </tbody>\n",
       "</table>\n",
       "</div>"
      ],
      "text/plain": [
       "  InvoiceNo StockCode                          Description Quantity  \\\n",
       "0    536365  ö85123A^   WHITE HANGING HEART T-LIGHT HOLDER        6   \n",
       "1    536365   ö71053^                  WHITE METAL LANTERN        6   \n",
       "2    536365    84406B       CREAM CUPID HEARTS COAT HANGER        8   \n",
       "3   536365ä  ö84029G^  KNITTED UNION FLAG HOT WATER BOTTLE        6   \n",
       "4    536365    84029E      $RED WOOLLY HOTTIE WHITE HEART.        6   \n",
       "\n",
       "           InvoiceDate UnitPrice CustomerID              Country  \n",
       "0  2010-12-01 08:26:00    Ww2.55  &17850.0#       United Kingdom  \n",
       "1  2010-12-01 08:26:00      3.39    17850.0  XxYUnited Kingdom☺️  \n",
       "2  2010-12-01 08:26:00      2.75    17850.0       United Kingdom  \n",
       "3  2010-12-01 08:26:00    Ww3.39    17850.0  XxYUnited Kingdom☺️  \n",
       "4  2010-12-01 08:26:00    Ww3.39  &17850.0#  XxYUnited Kingdom☺️  "
      ]
     },
     "execution_count": 9,
     "metadata": {},
     "output_type": "execute_result"
    }
   ],
   "source": [
    "data_1.head()"
   ]
  },
  {
   "cell_type": "code",
   "execution_count": 10,
   "metadata": {},
   "outputs": [
    {
     "data": {
      "text/plain": [
       "array(['United Kingdom', 'XxYUnited Kingdom☺️', 'France', 'XxYFrance☺️',\n",
       "       'XxYAustralia☺️', 'Australia', 'Netherlands', 'Germany',\n",
       "       'XxYGermany☺️', 'Norway', 'XxYNorway☺️', 'EIRE', 'XxYEIRE☺️',\n",
       "       'Switzerland', 'XxYSwitzerland☺️', 'Spain', 'XxYSpain☺️',\n",
       "       'XxYPoland☺️', 'Poland', 'XxYPortugal☺️', 'Portugal', 'XxYItaly☺️',\n",
       "       'Italy', 'XxYBelgium☺️', 'Belgium', 'XxYLithuania☺️', 'Lithuania',\n",
       "       'XxYJapan☺️', 'Japan', 'Iceland', 'XxYIceland☺️',\n",
       "       'Channel Islands', 'XxYChannel Islands☺️', 'Denmark',\n",
       "       'XxYDenmark☺️', 'Cyprus', 'XxYCyprus☺️', 'Sweden', 'Austria',\n",
       "       'XxYIsrael☺️', 'Israel', 'XxYFinland☺️', 'Finland', 'XxYAustria☺️',\n",
       "       'XxYSweden☺️', 'XxYNetherlands☺️', 'XxYBahrain☺️', 'Greece',\n",
       "       'XxYGreece☺️', 'Hong Kong', 'XxYHong Kong☺️', 'Singapore',\n",
       "       'XxYSingapore☺️', 'Lebanon', 'XxYLebanon☺️',\n",
       "       'United Arab Emirates', 'XxYUnited Arab Emirates☺️',\n",
       "       'Saudi Arabia', 'XxYSaudi Arabia☺️', 'XxYCzech Republic☺️',\n",
       "       'Czech Republic', 'Canada', 'XxYCanada☺️', 'Unspecified',\n",
       "       'XxYUnspecified☺️', 'Brazil', 'XxYBrazil☺️', 'USA', 'XxYUSA☺️',\n",
       "       'XxYEuropean Community☺️', 'European Community', 'Bahrain',\n",
       "       'Malta', 'XxYMalta☺️', 'XxYRSA☺️', 'RSA'], dtype=object)"
      ]
     },
     "execution_count": 10,
     "metadata": {},
     "output_type": "execute_result"
    }
   ],
   "source": [
    "data_1['Country'].unique()"
   ]
  },
  {
   "cell_type": "markdown",
   "metadata": {},
   "source": [
    "### General cleaning function"
   ]
  },
  {
   "cell_type": "code",
   "execution_count": 11,
   "metadata": {},
   "outputs": [],
   "source": [
    "def clean_data(data):\n",
    "    \"\"\"\n",
    "    This function cleans a pandas DataFrame by:\n",
    "        - Removing special characters from InvoiceNo, StockCode, Description and Country.\n",
    "        - Converting the Quantity and UnitPrice columns to numeric data types (assuming they represent numbers).\n",
    "        - Standardizing the format of the InvoiceDate column (assuming YYYY-MM-DD format is desired).\n",
    "\n",
    "    Args:\n",
    "        data: A pandas DataFrame containing the dataset.\n",
    "\n",
    "    Returns:\n",
    "        A pandas DataFrame containing the cleaned data.\n",
    "    \"\"\"\n",
    "\n",
    "    # cleanng the customer column\n",
    "    data['Country'] = data['Country'].str.replace(\"XxY\", \"\", regex=True).str.rstrip(\"☺️\")\n",
    "\n",
    "    # Define columns to clean special characters from\n",
    "    cols_clean_special_chars = ['InvoiceNo', 'StockCode', 'Description']\n",
    "\n",
    "    # Clean special characters using regular expressions\n",
    "    for col in cols_clean_special_chars:\n",
    "        data[col] = data[col].str.replace(r'[^\\w\\s]', '', regex=True)\n",
    "\n",
    "    extra_clean = ['InvoiceNo', 'StockCode', 'CustomerID']\n",
    "    # making sure there's only numbers in the columns\n",
    "    for col in extra_clean:\n",
    "        data[col] = data[col].str.replace(r'\\D', '', regex=True)\n",
    "\n",
    "    # Try converting Quantity and UnitPrice to numeric (handle errors)\n",
    "    for col in ['Quantity', 'UnitPrice']:\n",
    "        try:\n",
    "            # Assuming data contains numbers with potential separators (\".\", \"w\")\n",
    "            data[col] = pd.to_numeric(data[col].str.replace(r'[^\\d\\-+\\.]', '', regex=True))\n",
    "        except:\n",
    "            print(f\"Error converting column {col} to numeric, data may contain invalid formats.\")\n",
    "\n",
    "    # Standardize InvoiceDate format (assuming desired format is YYYY-MM-DD)\n",
    "    try:\n",
    "        data['InvoiceDate'] = pd.to_datetime(data['InvoiceDate'], format='%Y-%m-%d %H:%M:%S')\n",
    "    except:\n",
    "        print(f\"Error parsing InvoiceDate, data may contain invalid formats.\")\n",
    "        \n",
    "\n",
    "    return data"
   ]
  },
  {
   "cell_type": "code",
   "execution_count": 12,
   "metadata": {},
   "outputs": [],
   "source": [
    "data_2 = clean_data(data_1)"
   ]
  },
  {
   "cell_type": "code",
   "execution_count": 15,
   "metadata": {},
   "outputs": [
    {
     "data": {
      "text/html": [
       "<div>\n",
       "<style scoped>\n",
       "    .dataframe tbody tr th:only-of-type {\n",
       "        vertical-align: middle;\n",
       "    }\n",
       "\n",
       "    .dataframe tbody tr th {\n",
       "        vertical-align: top;\n",
       "    }\n",
       "\n",
       "    .dataframe thead th {\n",
       "        text-align: right;\n",
       "    }\n",
       "</style>\n",
       "<table border=\"1\" class=\"dataframe\">\n",
       "  <thead>\n",
       "    <tr style=\"text-align: right;\">\n",
       "      <th></th>\n",
       "      <th>InvoiceNo</th>\n",
       "      <th>StockCode</th>\n",
       "      <th>Description</th>\n",
       "      <th>Quantity</th>\n",
       "      <th>InvoiceDate</th>\n",
       "      <th>UnitPrice</th>\n",
       "      <th>CustomerID</th>\n",
       "      <th>Country</th>\n",
       "    </tr>\n",
       "  </thead>\n",
       "  <tbody>\n",
       "    <tr>\n",
       "      <th>0</th>\n",
       "      <td>536365</td>\n",
       "      <td>85123</td>\n",
       "      <td>WHITE HANGING HEART TLIGHT HOLDER</td>\n",
       "      <td>6</td>\n",
       "      <td>2010-12-01 08:26:00</td>\n",
       "      <td>2.55</td>\n",
       "      <td>178500</td>\n",
       "      <td>United Kingdom</td>\n",
       "    </tr>\n",
       "    <tr>\n",
       "      <th>1</th>\n",
       "      <td>536365</td>\n",
       "      <td>71053</td>\n",
       "      <td>WHITE METAL LANTERN</td>\n",
       "      <td>6</td>\n",
       "      <td>2010-12-01 08:26:00</td>\n",
       "      <td>3.39</td>\n",
       "      <td>178500</td>\n",
       "      <td>United Kingdom</td>\n",
       "    </tr>\n",
       "    <tr>\n",
       "      <th>2</th>\n",
       "      <td>536365</td>\n",
       "      <td>84406</td>\n",
       "      <td>CREAM CUPID HEARTS COAT HANGER</td>\n",
       "      <td>8</td>\n",
       "      <td>2010-12-01 08:26:00</td>\n",
       "      <td>2.75</td>\n",
       "      <td>178500</td>\n",
       "      <td>United Kingdom</td>\n",
       "    </tr>\n",
       "    <tr>\n",
       "      <th>3</th>\n",
       "      <td>536365</td>\n",
       "      <td>84029</td>\n",
       "      <td>KNITTED UNION FLAG HOT WATER BOTTLE</td>\n",
       "      <td>6</td>\n",
       "      <td>2010-12-01 08:26:00</td>\n",
       "      <td>3.39</td>\n",
       "      <td>178500</td>\n",
       "      <td>United Kingdom</td>\n",
       "    </tr>\n",
       "    <tr>\n",
       "      <th>4</th>\n",
       "      <td>536365</td>\n",
       "      <td>84029</td>\n",
       "      <td>RED WOOLLY HOTTIE WHITE HEART</td>\n",
       "      <td>6</td>\n",
       "      <td>2010-12-01 08:26:00</td>\n",
       "      <td>3.39</td>\n",
       "      <td>178500</td>\n",
       "      <td>United Kingdom</td>\n",
       "    </tr>\n",
       "  </tbody>\n",
       "</table>\n",
       "</div>"
      ],
      "text/plain": [
       "  InvoiceNo StockCode                          Description  Quantity  \\\n",
       "0    536365     85123    WHITE HANGING HEART TLIGHT HOLDER         6   \n",
       "1    536365     71053                  WHITE METAL LANTERN         6   \n",
       "2    536365     84406       CREAM CUPID HEARTS COAT HANGER         8   \n",
       "3    536365     84029  KNITTED UNION FLAG HOT WATER BOTTLE         6   \n",
       "4    536365     84029        RED WOOLLY HOTTIE WHITE HEART         6   \n",
       "\n",
       "          InvoiceDate  UnitPrice CustomerID         Country  \n",
       "0 2010-12-01 08:26:00       2.55     178500  United Kingdom  \n",
       "1 2010-12-01 08:26:00       3.39     178500  United Kingdom  \n",
       "2 2010-12-01 08:26:00       2.75     178500  United Kingdom  \n",
       "3 2010-12-01 08:26:00       3.39     178500  United Kingdom  \n",
       "4 2010-12-01 08:26:00       3.39     178500  United Kingdom  "
      ]
     },
     "execution_count": 15,
     "metadata": {},
     "output_type": "execute_result"
    }
   ],
   "source": [
    "data_2.head()"
   ]
  },
  {
   "cell_type": "code",
   "execution_count": 16,
   "metadata": {},
   "outputs": [
    {
     "data": {
      "text/plain": [
       "InvoiceNo           0\n",
       "StockCode           0\n",
       "Description      1006\n",
       "Quantity            0\n",
       "InvoiceDate         0\n",
       "UnitPrice           0\n",
       "CustomerID     108047\n",
       "Country             0\n",
       "dtype: int64"
      ]
     },
     "execution_count": 16,
     "metadata": {},
     "output_type": "execute_result"
    }
   ],
   "source": [
    "# checking for nan\n",
    "data_2.isna().sum()"
   ]
  },
  {
   "cell_type": "code",
   "execution_count": null,
   "metadata": {},
   "outputs": [],
   "source": [
    "# dropping missing values based on the description of the data\n",
    "data_3 = data_2.dropna(subset=['Description']).reset_index(drop=True)\n",
    "data_3.head()"
   ]
  },
  {
   "cell_type": "code",
   "execution_count": 20,
   "metadata": {},
   "outputs": [],
   "source": [
    "# saving cleaned data\n",
    "data_3.to_csv('../data/cleaned_data.csv', index=False)"
   ]
  },
  {
   "cell_type": "markdown",
   "metadata": {},
   "source": [
    "## Comment"
   ]
  },
  {
   "cell_type": "markdown",
   "metadata": {},
   "source": [
    "- This data is a record of items that are purchased by customers in a company.\n",
    "- There is a lot of missing values in the Customer-ID column. \n",
    "- Since a vector database will be created for this data, it can be said to be a database that has the products description. \n",
    "- Document searching such a database will help get similar contents that are closer to the query. "
   ]
  },
  {
   "cell_type": "code",
   "execution_count": 21,
   "metadata": {},
   "outputs": [
    {
     "data": {
      "text/plain": [
       "InvoiceNo      24894\n",
       "StockCode       3354\n",
       "Description     4199\n",
       "Quantity         690\n",
       "InvoiceDate    22665\n",
       "UnitPrice       1630\n",
       "CustomerID      4373\n",
       "Country           38\n",
       "dtype: int64"
      ]
     },
     "execution_count": 21,
     "metadata": {},
     "output_type": "execute_result"
    }
   ],
   "source": [
    "data_3.nunique()"
   ]
  },
  {
   "cell_type": "code",
   "execution_count": 22,
   "metadata": {},
   "outputs": [
    {
     "data": {
      "text/html": [
       "<div>\n",
       "<style scoped>\n",
       "    .dataframe tbody tr th:only-of-type {\n",
       "        vertical-align: middle;\n",
       "    }\n",
       "\n",
       "    .dataframe tbody tr th {\n",
       "        vertical-align: top;\n",
       "    }\n",
       "\n",
       "    .dataframe thead th {\n",
       "        text-align: right;\n",
       "    }\n",
       "</style>\n",
       "<table border=\"1\" class=\"dataframe\">\n",
       "  <thead>\n",
       "    <tr style=\"text-align: right;\">\n",
       "      <th></th>\n",
       "      <th>StockCode</th>\n",
       "      <th>Description</th>\n",
       "    </tr>\n",
       "  </thead>\n",
       "  <tbody>\n",
       "    <tr>\n",
       "      <th>0</th>\n",
       "      <td>85123</td>\n",
       "      <td>POSTAGE</td>\n",
       "    </tr>\n",
       "    <tr>\n",
       "      <th>1</th>\n",
       "      <td>71053</td>\n",
       "      <td>Dotcomgiftshop Gift Voucher 1000</td>\n",
       "    </tr>\n",
       "    <tr>\n",
       "      <th>2</th>\n",
       "      <td>84406</td>\n",
       "      <td>Dotcomgiftshop Gift Voucher 2000</td>\n",
       "    </tr>\n",
       "    <tr>\n",
       "      <th>3</th>\n",
       "      <td>84029</td>\n",
       "      <td>Dotcomgiftshop Gift Voucher 3000</td>\n",
       "    </tr>\n",
       "    <tr>\n",
       "      <th>4</th>\n",
       "      <td>22752</td>\n",
       "      <td>Dotcomgiftshop Gift Voucher 4000</td>\n",
       "    </tr>\n",
       "  </tbody>\n",
       "</table>\n",
       "</div>"
      ],
      "text/plain": [
       "  StockCode                       Description\n",
       "0     85123                           POSTAGE\n",
       "1     71053  Dotcomgiftshop Gift Voucher 1000\n",
       "2     84406  Dotcomgiftshop Gift Voucher 2000\n",
       "3     84029  Dotcomgiftshop Gift Voucher 3000\n",
       "4     22752  Dotcomgiftshop Gift Voucher 4000"
      ]
     },
     "execution_count": 22,
     "metadata": {},
     "output_type": "execute_result"
    }
   ],
   "source": [
    "# creating a dataframe with just the unique stock codes and it's descirptions\n",
    "unique_stock_codes = data_3['StockCode'].unique()\n",
    "unique_descriptions = data_3.groupby('StockCode').first()['Description'].values\n",
    "unique_data = pd.DataFrame({'StockCode': unique_stock_codes, 'Description': unique_descriptions})\n",
    "unique_data.head()"
   ]
  },
  {
   "cell_type": "code",
   "execution_count": 23,
   "metadata": {},
   "outputs": [
    {
     "data": {
      "text/plain": [
       "(3354, 2)"
      ]
     },
     "execution_count": 23,
     "metadata": {},
     "output_type": "execute_result"
    }
   ],
   "source": [
    "unique_data.shape"
   ]
  },
  {
   "cell_type": "code",
   "execution_count": 24,
   "metadata": {},
   "outputs": [
    {
     "data": {
      "text/plain": [
       "3284"
      ]
     },
     "execution_count": 24,
     "metadata": {},
     "output_type": "execute_result"
    }
   ],
   "source": [
    "unique_data['Description'].nunique()"
   ]
  },
  {
   "cell_type": "code",
   "execution_count": 25,
   "metadata": {},
   "outputs": [],
   "source": [
    "# Creating a text file with the unique stock codes and descriptions. \n",
    "# It will be ; Product: description, product stock code: Stock code\n",
    "with open('../data/unique_descriptions.txt', 'w') as file:\n",
    "    for i, row in unique_data.iterrows():\n",
    "        file.write(f\"Product: {row['Description']}, product stock code: {row['StockCode']}\\n\")"
   ]
  },
  {
   "cell_type": "code",
   "execution_count": null,
   "metadata": {},
   "outputs": [],
   "source": []
  },
  {
   "cell_type": "code",
   "execution_count": null,
   "metadata": {},
   "outputs": [],
   "source": []
  },
  {
   "cell_type": "markdown",
   "metadata": {},
   "source": [
    "## Creating Vector Database "
   ]
  },
  {
   "cell_type": "code",
   "execution_count": null,
   "metadata": {},
   "outputs": [],
   "source": []
  },
  {
   "cell_type": "code",
   "execution_count": null,
   "metadata": {},
   "outputs": [],
   "source": [
    "import os\n",
    "from pinecone import Pinecone\n",
    "from langchain.embeddings.openai import OpenAIEmbeddings\n",
    "from google.colab import userdata\n",
    "from langchain_community.document_loaders import Docx2txtLoader\n",
    "from langchain.text_splitter import RecursiveCharacterTextSplitter\n",
    "from langchain_community.document_loaders import TextLoader\n",
    "from langchain_openai import OpenAIEmbeddings\n",
    "from langchain_text_splitters import CharacterTextSplitter\n",
    "from pinecone import Pinecone, ServerlessSpec\n",
    "from langchain_pinecone import PineconeVectorStore"
   ]
  },
  {
   "cell_type": "code",
   "execution_count": null,
   "metadata": {},
   "outputs": [],
   "source": []
  },
  {
   "cell_type": "code",
   "execution_count": null,
   "metadata": {},
   "outputs": [],
   "source": []
  },
  {
   "cell_type": "code",
   "execution_count": null,
   "metadata": {},
   "outputs": [],
   "source": []
  },
  {
   "cell_type": "code",
   "execution_count": null,
   "metadata": {},
   "outputs": [],
   "source": []
  },
  {
   "cell_type": "code",
   "execution_count": null,
   "metadata": {},
   "outputs": [],
   "source": []
  },
  {
   "cell_type": "code",
   "execution_count": null,
   "metadata": {},
   "outputs": [],
   "source": []
  },
  {
   "cell_type": "code",
   "execution_count": null,
   "metadata": {},
   "outputs": [],
   "source": []
  },
  {
   "cell_type": "code",
   "execution_count": null,
   "metadata": {},
   "outputs": [],
   "source": []
  }
 ],
 "metadata": {
  "kernelspec": {
   "display_name": "Python 3",
   "language": "python",
   "name": "python3"
  },
  "language_info": {
   "codemirror_mode": {
    "name": "ipython",
    "version": 3
   },
   "file_extension": ".py",
   "mimetype": "text/x-python",
   "name": "python",
   "nbconvert_exporter": "python",
   "pygments_lexer": "ipython3",
   "version": "3.10.14"
  }
 },
 "nbformat": 4,
 "nbformat_minor": 2
}
