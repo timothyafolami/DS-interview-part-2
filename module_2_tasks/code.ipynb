{
 "cells": [
  {
   "cell_type": "markdown",
   "metadata": {},
   "source": [
    "## OCR"
   ]
  },
  {
   "cell_type": "code",
   "execution_count": 11,
   "metadata": {},
   "outputs": [],
   "source": [
    "import easyocr"
   ]
  },
  {
   "cell_type": "code",
   "execution_count": 15,
   "metadata": {},
   "outputs": [
    {
     "name": "stderr",
     "output_type": "stream",
     "text": [
      "Neither CUDA nor MPS are available - defaulting to CPU. Note: This module is much faster with a GPU.\n"
     ]
    }
   ],
   "source": [
    "reader = easyocr.Reader(['en'], detector='DB', recognizer = 'Transformer') "
   ]
  },
  {
   "cell_type": "code",
   "execution_count": 3,
   "metadata": {},
   "outputs": [],
   "source": [
    "result = reader.readtext('image-1.jpg')\n"
   ]
  },
  {
   "cell_type": "code",
   "execution_count": 4,
   "metadata": {},
   "outputs": [
    {
     "data": {
      "text/plain": [
       "[([[914, 806], [1304, 806], [1304, 1026], [914, 1026]],\n",
       "  'blodk',\n",
       "  0.581792572052716),\n",
       " ([[1386, 758], [1850, 758], [1850, 974], [1386, 974]],\n",
       "  'Fram 2',\n",
       "  0.3073062988438498),\n",
       " ([[538, 830], [830, 830], [830, 1078], [538, 1078]],\n",
       "  'Fon',\n",
       "  0.8022684795726847)]"
      ]
     },
     "execution_count": 4,
     "metadata": {},
     "output_type": "execute_result"
    }
   ],
   "source": [
    "result"
   ]
  },
  {
   "cell_type": "code",
   "execution_count": 5,
   "metadata": {},
   "outputs": [
    {
     "name": "stdout",
     "output_type": "stream",
     "text": [
      "blodk\n",
      "Fram 2\n",
      "Fon\n"
     ]
    }
   ],
   "source": [
    "for text in result:\n",
    "    print(text[1])"
   ]
  },
  {
   "cell_type": "code",
   "execution_count": 16,
   "metadata": {},
   "outputs": [],
   "source": [
    "# a function that takes an image and returns the text in the image\n",
    "def read_text(image_path):\n",
    "    result = reader.readtext(image_path)\n",
    "    text = ''\n",
    "    for i in result:\n",
    "        text += i[1] + ' '\n",
    "    return text"
   ]
  },
  {
   "cell_type": "code",
   "execution_count": 17,
   "metadata": {},
   "outputs": [
    {
     "name": "stdout",
     "output_type": "stream",
     "text": [
      "blodk Fram 2 Fon \n"
     ]
    }
   ],
   "source": [
    "image_path = 'image-1.jpg'\n",
    "print(read_text(image_path))"
   ]
  },
  {
   "cell_type": "code",
   "execution_count": 18,
   "metadata": {},
   "outputs": [
    {
     "name": "stdout",
     "output_type": "stream",
     "text": [
      "Szndaltuted Fan \n"
     ]
    }
   ],
   "source": [
    "image_path = 'image-2.jpg'\n",
    "print(read_text(image_path))"
   ]
  },
  {
   "cell_type": "code",
   "execution_count": 19,
   "metadata": {},
   "outputs": [
    {
     "name": "stdout",
     "output_type": "stream",
     "text": [
      "blue ParaSel Qapec \n"
     ]
    }
   ],
   "source": [
    "image_path = 'image-3.jpg'\n",
    "print(read_text(image_path))"
   ]
  },
  {
   "cell_type": "code",
   "execution_count": 20,
   "metadata": {},
   "outputs": [
    {
     "name": "stdout",
     "output_type": "stream",
     "text": [
      "Cartoon Qena ( Pener5 Slr \n"
     ]
    }
   ],
   "source": [
    "image_path = 'image-4.jpg'\n",
    "print(read_text(image_path))"
   ]
  },
  {
   "cell_type": "markdown",
   "metadata": {},
   "source": [
    "## Product Image Webscrapping"
   ]
  },
  {
   "cell_type": "code",
   "execution_count": 1,
   "metadata": {},
   "outputs": [],
   "source": [
    "import pandas as pd"
   ]
  },
  {
   "cell_type": "code",
   "execution_count": 2,
   "metadata": {},
   "outputs": [
    {
     "data": {
      "text/html": [
       "<div>\n",
       "<style scoped>\n",
       "    .dataframe tbody tr th:only-of-type {\n",
       "        vertical-align: middle;\n",
       "    }\n",
       "\n",
       "    .dataframe tbody tr th {\n",
       "        vertical-align: top;\n",
       "    }\n",
       "\n",
       "    .dataframe thead th {\n",
       "        text-align: right;\n",
       "    }\n",
       "</style>\n",
       "<table border=\"1\" class=\"dataframe\">\n",
       "  <thead>\n",
       "    <tr style=\"text-align: right;\">\n",
       "      <th></th>\n",
       "      <th>StockCode</th>\n",
       "    </tr>\n",
       "  </thead>\n",
       "  <tbody>\n",
       "    <tr>\n",
       "      <th>0</th>\n",
       "      <td>85123A</td>\n",
       "    </tr>\n",
       "    <tr>\n",
       "      <th>1</th>\n",
       "      <td>ö85123A^</td>\n",
       "    </tr>\n",
       "    <tr>\n",
       "      <th>2</th>\n",
       "      <td>ö22423^</td>\n",
       "    </tr>\n",
       "    <tr>\n",
       "      <th>3</th>\n",
       "      <td>22423</td>\n",
       "    </tr>\n",
       "    <tr>\n",
       "      <th>4</th>\n",
       "      <td>ö85099B^</td>\n",
       "    </tr>\n",
       "    <tr>\n",
       "      <th>5</th>\n",
       "      <td>85099B</td>\n",
       "    </tr>\n",
       "    <tr>\n",
       "      <th>6</th>\n",
       "      <td>ö47566^</td>\n",
       "    </tr>\n",
       "    <tr>\n",
       "      <th>7</th>\n",
       "      <td>ö20725^</td>\n",
       "    </tr>\n",
       "    <tr>\n",
       "      <th>8</th>\n",
       "      <td>47566</td>\n",
       "    </tr>\n",
       "    <tr>\n",
       "      <th>9</th>\n",
       "      <td>20725</td>\n",
       "    </tr>\n",
       "  </tbody>\n",
       "</table>\n",
       "</div>"
      ],
      "text/plain": [
       "  StockCode\n",
       "0    85123A\n",
       "1  ö85123A^\n",
       "2   ö22423^\n",
       "3     22423\n",
       "4  ö85099B^\n",
       "5    85099B\n",
       "6   ö47566^\n",
       "7   ö20725^\n",
       "8     47566\n",
       "9     20725"
      ]
     },
     "execution_count": 2,
     "metadata": {},
     "output_type": "execute_result"
    }
   ],
   "source": [
    "data = pd.read_csv('../data/CNN_Model_Train_Data.csv')\n",
    "data"
   ]
  },
  {
   "cell_type": "code",
   "execution_count": 3,
   "metadata": {},
   "outputs": [
    {
     "data": {
      "text/html": [
       "<div>\n",
       "<style scoped>\n",
       "    .dataframe tbody tr th:only-of-type {\n",
       "        vertical-align: middle;\n",
       "    }\n",
       "\n",
       "    .dataframe tbody tr th {\n",
       "        vertical-align: top;\n",
       "    }\n",
       "\n",
       "    .dataframe thead th {\n",
       "        text-align: right;\n",
       "    }\n",
       "</style>\n",
       "<table border=\"1\" class=\"dataframe\">\n",
       "  <thead>\n",
       "    <tr style=\"text-align: right;\">\n",
       "      <th></th>\n",
       "      <th>StockCode</th>\n",
       "    </tr>\n",
       "  </thead>\n",
       "  <tbody>\n",
       "    <tr>\n",
       "      <th>0</th>\n",
       "      <td>85123.0</td>\n",
       "    </tr>\n",
       "    <tr>\n",
       "      <th>1</th>\n",
       "      <td>85123.0</td>\n",
       "    </tr>\n",
       "    <tr>\n",
       "      <th>2</th>\n",
       "      <td>22423.0</td>\n",
       "    </tr>\n",
       "    <tr>\n",
       "      <th>3</th>\n",
       "      <td>22423.0</td>\n",
       "    </tr>\n",
       "    <tr>\n",
       "      <th>4</th>\n",
       "      <td>85099.0</td>\n",
       "    </tr>\n",
       "    <tr>\n",
       "      <th>5</th>\n",
       "      <td>85099.0</td>\n",
       "    </tr>\n",
       "    <tr>\n",
       "      <th>6</th>\n",
       "      <td>47566.0</td>\n",
       "    </tr>\n",
       "    <tr>\n",
       "      <th>7</th>\n",
       "      <td>20725.0</td>\n",
       "    </tr>\n",
       "    <tr>\n",
       "      <th>8</th>\n",
       "      <td>47566.0</td>\n",
       "    </tr>\n",
       "    <tr>\n",
       "      <th>9</th>\n",
       "      <td>20725.0</td>\n",
       "    </tr>\n",
       "  </tbody>\n",
       "</table>\n",
       "</div>"
      ],
      "text/plain": [
       "   StockCode\n",
       "0    85123.0\n",
       "1    85123.0\n",
       "2    22423.0\n",
       "3    22423.0\n",
       "4    85099.0\n",
       "5    85099.0\n",
       "6    47566.0\n",
       "7    20725.0\n",
       "8    47566.0\n",
       "9    20725.0"
      ]
     },
     "execution_count": 3,
     "metadata": {},
     "output_type": "execute_result"
    }
   ],
   "source": [
    "# cleaning the data\n",
    "data['StockCode'] = data['StockCode'].str.replace(r'\\D', '', regex=True)\n",
    "data = data.astype(float)\n",
    "data"
   ]
  },
  {
   "cell_type": "code",
   "execution_count": 4,
   "metadata": {},
   "outputs": [
    {
     "data": {
      "text/html": [
       "<div>\n",
       "<style scoped>\n",
       "    .dataframe tbody tr th:only-of-type {\n",
       "        vertical-align: middle;\n",
       "    }\n",
       "\n",
       "    .dataframe tbody tr th {\n",
       "        vertical-align: top;\n",
       "    }\n",
       "\n",
       "    .dataframe thead th {\n",
       "        text-align: right;\n",
       "    }\n",
       "</style>\n",
       "<table border=\"1\" class=\"dataframe\">\n",
       "  <thead>\n",
       "    <tr style=\"text-align: right;\">\n",
       "      <th></th>\n",
       "      <th>StockCode</th>\n",
       "      <th>Description</th>\n",
       "    </tr>\n",
       "  </thead>\n",
       "  <tbody>\n",
       "    <tr>\n",
       "      <th>0</th>\n",
       "      <td>85123.0</td>\n",
       "      <td>POSTAGE</td>\n",
       "    </tr>\n",
       "    <tr>\n",
       "      <th>1</th>\n",
       "      <td>71053.0</td>\n",
       "      <td>Dotcomgiftshop Gift Voucher 1000</td>\n",
       "    </tr>\n",
       "    <tr>\n",
       "      <th>2</th>\n",
       "      <td>84406.0</td>\n",
       "      <td>Dotcomgiftshop Gift Voucher 2000</td>\n",
       "    </tr>\n",
       "    <tr>\n",
       "      <th>3</th>\n",
       "      <td>84029.0</td>\n",
       "      <td>Dotcomgiftshop Gift Voucher 3000</td>\n",
       "    </tr>\n",
       "    <tr>\n",
       "      <th>4</th>\n",
       "      <td>22752.0</td>\n",
       "      <td>Dotcomgiftshop Gift Voucher 4000</td>\n",
       "    </tr>\n",
       "    <tr>\n",
       "      <th>...</th>\n",
       "      <td>...</td>\n",
       "      <td>...</td>\n",
       "    </tr>\n",
       "    <tr>\n",
       "      <th>3349</th>\n",
       "      <td>23562.0</td>\n",
       "      <td>GREEN ENAMELGLASS HAIR COMB</td>\n",
       "    </tr>\n",
       "    <tr>\n",
       "      <th>3350</th>\n",
       "      <td>23561.0</td>\n",
       "      <td>CLEAR ACRYLIC FACETED BANGLE</td>\n",
       "    </tr>\n",
       "    <tr>\n",
       "      <th>3351</th>\n",
       "      <td>23609.0</td>\n",
       "      <td>DIAMOND LAS VEGAS NECKLACE 45CM</td>\n",
       "    </tr>\n",
       "    <tr>\n",
       "      <th>3352</th>\n",
       "      <td>23617.0</td>\n",
       "      <td>JET BLACK LAS VEGAS BRACELET ROUND</td>\n",
       "    </tr>\n",
       "    <tr>\n",
       "      <th>3353</th>\n",
       "      <td>23843.0</td>\n",
       "      <td>LETTER D BLING KEY RING</td>\n",
       "    </tr>\n",
       "  </tbody>\n",
       "</table>\n",
       "<p>3354 rows × 2 columns</p>\n",
       "</div>"
      ],
      "text/plain": [
       "      StockCode                         Description\n",
       "0       85123.0                             POSTAGE\n",
       "1       71053.0    Dotcomgiftshop Gift Voucher 1000\n",
       "2       84406.0    Dotcomgiftshop Gift Voucher 2000\n",
       "3       84029.0    Dotcomgiftshop Gift Voucher 3000\n",
       "4       22752.0    Dotcomgiftshop Gift Voucher 4000\n",
       "...         ...                                 ...\n",
       "3349    23562.0         GREEN ENAMELGLASS HAIR COMB\n",
       "3350    23561.0        CLEAR ACRYLIC FACETED BANGLE\n",
       "3351    23609.0     DIAMOND LAS VEGAS NECKLACE 45CM\n",
       "3352    23617.0  JET BLACK LAS VEGAS BRACELET ROUND\n",
       "3353    23843.0             LETTER D BLING KEY RING\n",
       "\n",
       "[3354 rows x 2 columns]"
      ]
     },
     "execution_count": 4,
     "metadata": {},
     "output_type": "execute_result"
    }
   ],
   "source": [
    "stock_data = pd.read_csv('../data/stock_data.csv')\n",
    "stock_data"
   ]
  },
  {
   "cell_type": "code",
   "execution_count": 5,
   "metadata": {},
   "outputs": [
    {
     "data": {
      "text/html": [
       "<div>\n",
       "<style scoped>\n",
       "    .dataframe tbody tr th:only-of-type {\n",
       "        vertical-align: middle;\n",
       "    }\n",
       "\n",
       "    .dataframe tbody tr th {\n",
       "        vertical-align: top;\n",
       "    }\n",
       "\n",
       "    .dataframe thead th {\n",
       "        text-align: right;\n",
       "    }\n",
       "</style>\n",
       "<table border=\"1\" class=\"dataframe\">\n",
       "  <thead>\n",
       "    <tr style=\"text-align: right;\">\n",
       "      <th></th>\n",
       "      <th>StockCode</th>\n",
       "      <th>Description</th>\n",
       "    </tr>\n",
       "  </thead>\n",
       "  <tbody>\n",
       "    <tr>\n",
       "      <th>0</th>\n",
       "      <td>85123.0</td>\n",
       "      <td>POSTAGE</td>\n",
       "    </tr>\n",
       "    <tr>\n",
       "      <th>1</th>\n",
       "      <td>85099.0</td>\n",
       "      <td>LETTER SHAPE PENCIL SHARPENER</td>\n",
       "    </tr>\n",
       "    <tr>\n",
       "      <th>2</th>\n",
       "      <td>20725.0</td>\n",
       "      <td>KITTY PENCIL ERASERS</td>\n",
       "    </tr>\n",
       "    <tr>\n",
       "      <th>3</th>\n",
       "      <td>22423.0</td>\n",
       "      <td>TOAST ITS  FAIRY FLOWER</td>\n",
       "    </tr>\n",
       "    <tr>\n",
       "      <th>4</th>\n",
       "      <td>47566.0</td>\n",
       "      <td>HEART FILIGREE DOVE LARGE</td>\n",
       "    </tr>\n",
       "  </tbody>\n",
       "</table>\n",
       "</div>"
      ],
      "text/plain": [
       "   StockCode                    Description\n",
       "0    85123.0                        POSTAGE\n",
       "1    85099.0  LETTER SHAPE PENCIL SHARPENER\n",
       "2    20725.0           KITTY PENCIL ERASERS\n",
       "3    22423.0        TOAST ITS  FAIRY FLOWER\n",
       "4    47566.0      HEART FILIGREE DOVE LARGE"
      ]
     },
     "execution_count": 5,
     "metadata": {},
     "output_type": "execute_result"
    }
   ],
   "source": [
    "# getting the description of the stock code\n",
    "filtered_data = stock_data[stock_data['StockCode'].isin(data['StockCode'])].reset_index(drop=True)\n",
    "filtered_data"
   ]
  },
  {
   "cell_type": "code",
   "execution_count": 6,
   "metadata": {},
   "outputs": [
    {
     "data": {
      "text/plain": [
       "StockCode      5\n",
       "Description    5\n",
       "dtype: int64"
      ]
     },
     "execution_count": 6,
     "metadata": {},
     "output_type": "execute_result"
    }
   ],
   "source": [
    "filtered_data.nunique()"
   ]
  },
  {
   "cell_type": "code",
   "execution_count": 7,
   "metadata": {},
   "outputs": [
    {
     "data": {
      "text/plain": [
       "array(['POSTAGE', 'LETTER SHAPE PENCIL SHARPENER', 'KITTY PENCIL ERASERS',\n",
       "       'TOAST ITS  FAIRY FLOWER', 'HEART FILIGREE DOVE LARGE'],\n",
       "      dtype=object)"
      ]
     },
     "execution_count": 7,
     "metadata": {},
     "output_type": "execute_result"
    }
   ],
   "source": [
    "filtered_data['Description'].unique()"
   ]
  },
  {
   "cell_type": "code",
   "execution_count": null,
   "metadata": {},
   "outputs": [],
   "source": []
  },
  {
   "cell_type": "markdown",
   "metadata": {},
   "source": [
    "## Product Image Link Scrapping"
   ]
  },
  {
   "cell_type": "markdown",
   "metadata": {},
   "source": [
    "## Amazon -- Scrapping from amazon"
   ]
  },
  {
   "cell_type": "code",
   "execution_count": 1,
   "metadata": {},
   "outputs": [],
   "source": [
    "import pandas as pd\n",
    "from bs4 import BeautifulSoup\n",
    "from selenium import webdriver\n",
    "from selenium.webdriver import ChromeOptions"
   ]
  },
  {
   "cell_type": "code",
   "execution_count": 35,
   "metadata": {},
   "outputs": [
    {
     "data": {
      "text/plain": [
       "8"
      ]
     },
     "execution_count": 35,
     "metadata": {},
     "output_type": "execute_result"
    }
   ],
   "source": [
    "# Renaming these objects to make them more understandable\n",
    "object = ['CUSHION COVER', 'Pencil Sharpener', 'Pencil Eraser', 'WASHBAG', 'BASKET', 'COLOURING PENCILS', 'ANIMAL STICKERS', 'RED PURSE']\n",
    "len(object)"
   ]
  },
  {
   "cell_type": "code",
   "execution_count": 33,
   "metadata": {},
   "outputs": [],
   "source": [
    "# options = ChromeOptions()\n",
    "# options.add_argument(\"--headless=new\")\n",
    "# driver = webdriver.Chrome(options=options)\n",
    "# url = \"https://www.amazon.com/s?k=POCKET+BOOK&ref=nb_sb_noss_2\"\n",
    "# driver.get(url)\n",
    "# results = []\n",
    "# content = driver.page_source\n",
    "# soup = BeautifulSoup(content, \"html.parser\")\n",
    "# driver.quit()\n",
    "\n",
    "# def parse_image_urls(soup, classes, location, source):\n",
    "#     for a in soup.findAll(attrs={\"class\": classes}):\n",
    "#         name = a.find(location)\n",
    "#         if name not in results:\n",
    "#             results.append(name.get(source))\n",
    "\n",
    "# parse_image_urls(soup, \"a-section aok-relative s-image-square-aspect\", \"img\", \"src\")"
   ]
  },
  {
   "cell_type": "code",
   "execution_count": 10,
   "metadata": {},
   "outputs": [],
   "source": [
    "import time\n",
    "\n",
    "def parse_image_urls(soup, classes, location, source):\n",
    "    for a in soup.findAll(attrs={\"class\": classes}):\n",
    "        name = a.find(location)\n",
    "        if name not in results:\n",
    "            results.append(name.get(source))\n",
    "\n",
    "def get_img_links(homepage, recurrent_links, no_of_pages, class_name, location, source):\n",
    "    options = ChromeOptions()\n",
    "    options.add_argument(\"--headless=new\")\n",
    "    driver = webdriver.Chrome(options=options)\n",
    "    url = homepage\n",
    "    driver.get(url)\n",
    "    content = driver.page_source\n",
    "    soup = BeautifulSoup(content, \"html.parser\")\n",
    "    parse_image_urls(soup, class_name, location, source)\n",
    "    print(f\"Page 1 done\")\n",
    "    time.sleep(2)\n",
    "    # loop through the pages\n",
    "    for i in range(2, no_of_pages + 1):\n",
    "        options = ChromeOptions()\n",
    "        options.add_argument(\"--headless=new\")\n",
    "        driver = webdriver.Chrome(options=options)\n",
    "        url = recurrent_links + str(i)\n",
    "        driver.get(url)\n",
    "        content = driver.page_source\n",
    "        soup = BeautifulSoup(content, \"html.parser\")\n",
    "        parse_image_urls(soup, class_name, location, source)\n",
    "        print(f\"Finished scraping page {url}\")\n",
    "        print(len(results))\n",
    "        time.sleep(2)\n",
    "    driver.quit()\n",
    "    return results"
   ]
  },
  {
   "cell_type": "code",
   "execution_count": null,
   "metadata": {},
   "outputs": [],
   "source": [
    "for i in range(len(object)):\n",
    "    object_ = object[i]\n",
    "    print(object_)\n",
    "    obj_name= object_.replace(\" \", \"+\")\n",
    "    homepage = 'https://www.amazon.com/s?k=%27'+str(obj_name)+'%27&ref=nb_sb_noss_2'\n",
    "    recurrent_links = 'https://www.amazon.com/s?k=%'+str(obj_name)+'%27&page=2&ref=sr_pg_'\n",
    "    no_of_pages = 9\n",
    "    class_name = \"a-section aok-relative s-image-square-aspect\"\n",
    "    location = \"img\"\n",
    "    source = \"src\"\n",
    "    results = []\n",
    "    object_links = get_img_links(homepage, recurrent_links, no_of_pages, class_name, location, source)\n",
    "    # creating a dataframe\n",
    "    image_urls = pd.DataFrame()\n",
    "    image_urls['image_url'] = object_links\n",
    "    image_urls.to_csv(str(object_)+'.csv', index=False)"
   ]
  }
 ],
 "metadata": {
  "kernelspec": {
   "display_name": "Python 3",
   "language": "python",
   "name": "python3"
  },
  "language_info": {
   "codemirror_mode": {
    "name": "ipython",
    "version": 3
   },
   "file_extension": ".py",
   "mimetype": "text/x-python",
   "name": "python",
   "nbconvert_exporter": "python",
   "pygments_lexer": "ipython3",
   "version": "3.10.14"
  }
 },
 "nbformat": 4,
 "nbformat_minor": 2
}
