{
 "cells": [
  {
   "cell_type": "code",
   "execution_count": 1,
   "metadata": {},
   "outputs": [],
   "source": [
    "import matplotlib.pyplot as plt\n",
    "import numpy as np\n",
    "\n",
    "import torch\n",
    "from torch import nn, optim\n",
    "from torchvision import datasets, transforms\n",
    "\n",
    "\n",
    "import shutil\n",
    "import os"
   ]
  },
  {
   "cell_type": "code",
   "execution_count": 2,
   "metadata": {},
   "outputs": [
    {
     "data": {
      "text/plain": [
       "'cuda'"
      ]
     },
     "execution_count": 2,
     "metadata": {},
     "output_type": "execute_result"
    }
   ],
   "source": [
    "device = (\"cuda\" if torch.cuda.is_available() else \"cpu\") # Use GPU or CPU for training\n",
    "device"
   ]
  },
  {
   "cell_type": "markdown",
   "metadata": {},
   "source": [
    "## AlexNet Implementation"
   ]
  },
  {
   "cell_type": "code",
   "execution_count": 3,
   "metadata": {},
   "outputs": [],
   "source": [
    "class AlexNet(nn.Module):\n",
    "\n",
    "    def __init__(self, num_classes: int = 8):\n",
    "        super(AlexNet, self).__init__()\n",
    "\n",
    "        self.convolutional = nn.Sequential(\n",
    "            nn.Conv2d(3, 64, kernel_size=11, stride=4, padding=2),\n",
    "            nn.ReLU(inplace=True),\n",
    "            nn.MaxPool2d(kernel_size=3, stride=2),\n",
    "            nn.Conv2d(64, 192, kernel_size=5, padding=2),\n",
    "            nn.ReLU(inplace=True),\n",
    "            nn.MaxPool2d(kernel_size=3, stride=2),\n",
    "            nn.Conv2d(192, 384, kernel_size=3, padding=1),\n",
    "            nn.ReLU(inplace=True),\n",
    "            nn.Conv2d(384, 256, kernel_size=3, padding=1),\n",
    "            nn.ReLU(inplace=True),\n",
    "            nn.Conv2d(256, 256, kernel_size=3, padding=1),\n",
    "            nn.ReLU(inplace=True),\n",
    "            nn.MaxPool2d(kernel_size=3, stride=2),\n",
    "        )\n",
    "\n",
    "        self.avgpool = nn.AdaptiveAvgPool2d((6, 6))\n",
    "\n",
    "        self.linear = nn.Sequential(\n",
    "            nn.Dropout(),\n",
    "            nn.Linear(256 * 6 * 6, 4096),\n",
    "            nn.ReLU(inplace=True),\n",
    "            nn.Dropout(),\n",
    "            nn.Linear(4096, 4096),\n",
    "            nn.ReLU(inplace=True),\n",
    "            nn.Linear(4096, 8)\n",
    "        )\n",
    "\n",
    "    def forward(self, x: torch.Tensor) -> torch.Tensor:\n",
    "\n",
    "        x = self.convolutional(x)\n",
    "        x = self.avgpool(x)\n",
    "        x = torch.flatten(x, 1)\n",
    "        x = self.linear(x)\n",
    "        return torch.softmax(x, 1)"
   ]
  },
  {
   "cell_type": "code",
   "execution_count": 4,
   "metadata": {},
   "outputs": [],
   "source": [
    "seed = torch.initial_seed()\n",
    "# create model\n",
    "model = AlexNet(num_classes=8)\n",
    "model = model.to(device)"
   ]
  },
  {
   "cell_type": "code",
   "execution_count": 5,
   "metadata": {},
   "outputs": [
    {
     "name": "stdout",
     "output_type": "stream",
     "text": [
      "AlexNet(\n",
      "  (convolutional): Sequential(\n",
      "    (0): Conv2d(3, 64, kernel_size=(11, 11), stride=(4, 4), padding=(2, 2))\n",
      "    (1): ReLU(inplace=True)\n",
      "    (2): MaxPool2d(kernel_size=3, stride=2, padding=0, dilation=1, ceil_mode=False)\n",
      "    (3): Conv2d(64, 192, kernel_size=(5, 5), stride=(1, 1), padding=(2, 2))\n",
      "    (4): ReLU(inplace=True)\n",
      "    (5): MaxPool2d(kernel_size=3, stride=2, padding=0, dilation=1, ceil_mode=False)\n",
      "    (6): Conv2d(192, 384, kernel_size=(3, 3), stride=(1, 1), padding=(1, 1))\n",
      "    (7): ReLU(inplace=True)\n",
      "    (8): Conv2d(384, 256, kernel_size=(3, 3), stride=(1, 1), padding=(1, 1))\n",
      "    (9): ReLU(inplace=True)\n",
      "    (10): Conv2d(256, 256, kernel_size=(3, 3), stride=(1, 1), padding=(1, 1))\n",
      "    (11): ReLU(inplace=True)\n",
      "    (12): MaxPool2d(kernel_size=3, stride=2, padding=0, dilation=1, ceil_mode=False)\n",
      "  )\n",
      "  (avgpool): AdaptiveAvgPool2d(output_size=(6, 6))\n",
      "  (linear): Sequential(\n",
      "    (0): Dropout(p=0.5, inplace=False)\n",
      "    (1): Linear(in_features=9216, out_features=4096, bias=True)\n",
      "    (2): ReLU(inplace=True)\n",
      "    (3): Dropout(p=0.5, inplace=False)\n",
      "    (4): Linear(in_features=4096, out_features=4096, bias=True)\n",
      "    (5): ReLU(inplace=True)\n",
      "    (6): Linear(in_features=4096, out_features=8, bias=True)\n",
      "  )\n",
      ")\n"
     ]
    }
   ],
   "source": [
    "print(model)"
   ]
  },
  {
   "cell_type": "code",
   "execution_count": 6,
   "metadata": {},
   "outputs": [],
   "source": [
    "transform = transforms.Compose([\n",
    "          transforms.Resize((90, 90)),\n",
    "          transforms.RandomHorizontalFlip(),\n",
    "          transforms.ToTensor(),\n",
    "          transforms.Normalize(mean=[0.5, 0.5,0.5], std=[0.5,0.5,0.5])\n",
    "          ])\n",
    "\n",
    "batch_size = 64\n",
    "image_folder = '../Images'\n",
    "data = datasets.ImageFolder(image_folder, transform=transform)"
   ]
  },
  {
   "cell_type": "code",
   "execution_count": 7,
   "metadata": {},
   "outputs": [
    {
     "name": "stdout",
     "output_type": "stream",
     "text": [
      "['ANIMAL_STICKERS', 'BATH_SPONGE', 'COLOURING_PENCILS', 'CUSHION_COVER', 'Pencil_Eraser', 'Pencil_Sharpener', 'RED_PURSE', 'WASHBAG']\n",
      "873\n"
     ]
    }
   ],
   "source": [
    "print(data.classes)\n",
    "print(len(data))"
   ]
  },
  {
   "cell_type": "code",
   "execution_count": 8,
   "metadata": {},
   "outputs": [],
   "source": [
    "train_set, test_set = torch.utils.data.random_split(data, [int(len(data) * 0.90), len(data) - int(len(data) * 0.90)])\n",
    "train_data_size = len(train_set)\n",
    "test_data_size = len(test_set)"
   ]
  },
  {
   "cell_type": "code",
   "execution_count": 9,
   "metadata": {},
   "outputs": [
    {
     "data": {
      "text/plain": [
       "785"
      ]
     },
     "execution_count": 9,
     "metadata": {},
     "output_type": "execute_result"
    }
   ],
   "source": [
    "train_data_size"
   ]
  },
  {
   "cell_type": "code",
   "execution_count": 10,
   "metadata": {},
   "outputs": [
    {
     "data": {
      "text/plain": [
       "88"
      ]
     },
     "execution_count": 10,
     "metadata": {},
     "output_type": "execute_result"
    }
   ],
   "source": [
    "test_data_size"
   ]
  },
  {
   "cell_type": "code",
   "execution_count": 11,
   "metadata": {},
   "outputs": [],
   "source": [
    "trainLoader = torch.utils.data.DataLoader(train_set,batch_size=batch_size, shuffle=True)\n",
    "testLoader  = torch.utils.data.DataLoader(test_set, batch_size=batch_size, shuffle=True)"
   ]
  },
  {
   "cell_type": "code",
   "execution_count": 12,
   "metadata": {},
   "outputs": [],
   "source": [
    "optimizer = optim.Adam(model.parameters(), lr=0.0001)\n",
    "criterion = nn.CrossEntropyLoss()"
   ]
  },
  {
   "cell_type": "code",
   "execution_count": 13,
   "metadata": {},
   "outputs": [
    {
     "name": "stdout",
     "output_type": "stream",
     "text": [
      "Epoch: 0 | Train Loss: 2.0767650237450233\n",
      "Epoch: 1 | Train Loss: 2.0700661219083347\n",
      "Epoch: 2 | Train Loss: 2.028661168538607\n",
      "Epoch: 3 | Train Loss: 1.9260616852686956\n",
      "Epoch: 4 | Train Loss: 1.8961191819264338\n",
      "Epoch: 5 | Train Loss: 1.8932401216947115\n",
      "Epoch: 6 | Train Loss: 1.9093396480266864\n",
      "Epoch: 7 | Train Loss: 1.8180796549870417\n",
      "Epoch: 8 | Train Loss: 1.7913600481473482\n",
      "Epoch: 9 | Train Loss: 1.7974500289330115\n",
      "Epoch: 10 | Train Loss: 1.8457593275950506\n",
      "Epoch: 11 | Train Loss: 1.805008026269766\n",
      "Epoch: 12 | Train Loss: 1.791366430429312\n",
      "Epoch: 13 | Train Loss: 1.7674935781038725\n",
      "Epoch: 14 | Train Loss: 1.7674533954033484\n",
      "Epoch: 15 | Train Loss: 1.7608006734114428\n",
      "Epoch: 16 | Train Loss: 1.727322633449848\n",
      "Epoch: 17 | Train Loss: 1.7379437134816096\n",
      "Epoch: 18 | Train Loss: 1.7369741109701304\n",
      "Epoch: 19 | Train Loss: 1.7641377632434552\n",
      "Epoch: 20 | Train Loss: 1.770104142335745\n",
      "Epoch: 21 | Train Loss: 1.7251509061226478\n",
      "Epoch: 22 | Train Loss: 1.7466530524767363\n",
      "Epoch: 23 | Train Loss: 1.744612299478971\n",
      "Epoch: 24 | Train Loss: 1.7268497026883638\n",
      "Epoch: 25 | Train Loss: 1.728651496080252\n",
      "Epoch: 26 | Train Loss: 1.7325865121988149\n",
      "Epoch: 27 | Train Loss: 1.7292260390061598\n",
      "Epoch: 28 | Train Loss: 1.7281201619368334\n",
      "Epoch: 29 | Train Loss: 1.7563299674254198\n",
      "Epoch: 30 | Train Loss: 1.746556859750014\n",
      "Epoch: 31 | Train Loss: 1.7242051913188055\n",
      "Epoch: 32 | Train Loss: 1.7328699368696947\n",
      "Epoch: 33 | Train Loss: 1.7084308037391076\n",
      "Epoch: 34 | Train Loss: 1.698498478302589\n",
      "Epoch: 35 | Train Loss: 1.71474984058967\n",
      "Epoch: 36 | Train Loss: 1.701818319467398\n",
      "Epoch: 37 | Train Loss: 1.692329608477079\n",
      "Epoch: 38 | Train Loss: 1.686409904406621\n",
      "Epoch: 39 | Train Loss: 1.6973525194021373\n",
      "Epoch: 40 | Train Loss: 1.6914953176791852\n",
      "Epoch: 41 | Train Loss: 1.691715854864854\n",
      "Epoch: 42 | Train Loss: 1.7415434947380652\n",
      "Epoch: 43 | Train Loss: 1.702798843383789\n",
      "Epoch: 44 | Train Loss: 1.677106765600351\n",
      "Epoch: 45 | Train Loss: 1.6688688534956713\n",
      "Epoch: 46 | Train Loss: 1.679282784461975\n",
      "Epoch: 47 | Train Loss: 1.7015017362741323\n",
      "Epoch: 48 | Train Loss: 1.6936095861288218\n",
      "Epoch: 49 | Train Loss: 1.7055906332456148\n"
     ]
    }
   ],
   "source": [
    "epochs = 50\n",
    "train_loss = []\n",
    "\n",
    "for epoch in range(epochs):\n",
    "   \n",
    "    total_train_loss = 0\n",
    "    \n",
    "    # training our model\n",
    "    for idx, (image, label) in enumerate(trainLoader):\n",
    "        image, label = image.to(device), label.to(device)\n",
    "\n",
    "        optimizer.zero_grad()\n",
    "        pred = model(image)\n",
    "\n",
    "        loss = criterion(pred, label)\n",
    "        total_train_loss += loss.item()\n",
    "\n",
    "        loss.backward()\n",
    "        optimizer.step()\n",
    "\n",
    "    total_train_loss = total_train_loss / (idx + 1)\n",
    "    train_loss.append(total_train_loss)\n",
    "\n",
    "    print(f'Epoch: {epoch} | Train Loss: {total_train_loss}')"
   ]
  },
  {
   "cell_type": "code",
   "execution_count": 14,
   "metadata": {},
   "outputs": [
    {
     "data": {
      "text/plain": [
       "[<matplotlib.lines.Line2D at 0x234b22358d0>]"
      ]
     },
     "execution_count": 14,
     "metadata": {},
     "output_type": "execute_result"
    },
    {
     "data": {
      "image/png": "[encoded data removed]",
      "text/plain": [
       "<Figure size 640x480 with 1 Axes>"
      ]
     },
     "metadata": {},
     "output_type": "display_data"
    }
   ],
   "source": [
    "plt.plot(train_loss)"
   ]
  },
  {
   "cell_type": "code",
   "execution_count": 15,
   "metadata": {},
   "outputs": [
    {
     "name": "stdout",
     "output_type": "stream",
     "text": [
      "Training accuracy: 51.08%\n"
     ]
    }
   ],
   "source": [
    "correct = 0\n",
    "total = 0\n",
    "\n",
    "# Set the model to evaluation mode\n",
    "model.eval()\n",
    "\n",
    "# Iterate through the training data\n",
    "with torch.no_grad():\n",
    "    for images, labels in trainLoader:\n",
    "        images = images.to(device)\n",
    "        labels = labels.to(device)\n",
    "        \n",
    "        # Forward pass\n",
    "        outputs = model(images)\n",
    "        \n",
    "        # Get predicted labels\n",
    "        _, predicted = torch.max(outputs, 1)\n",
    "        \n",
    "        # Count correct predictions\n",
    "        correct += (predicted == labels).sum().item()\n",
    "        \n",
    "        # Count total number of samples\n",
    "        total += labels.size(0)\n",
    "\n",
    "# Calculate accuracy\n",
    "train_accuracy = correct / total * 100\n",
    "print(f'Training accuracy: {train_accuracy:.2f}%')\n"
   ]
  },
  {
   "cell_type": "code",
   "execution_count": 16,
   "metadata": {},
   "outputs": [
    {
     "name": "stdout",
     "output_type": "stream",
     "text": [
      "Classification Report for Training Set:\n",
      "              precision    recall  f1-score   support\n",
      "\n",
      "           0       0.66      0.75      0.70        92\n",
      "           1       0.09      0.01      0.02        86\n",
      "           2       0.57      0.66      0.61       101\n",
      "           3       0.75      0.35      0.48       112\n",
      "           4       0.00      0.00      0.00        84\n",
      "           5       0.67      0.64      0.66       104\n",
      "           6       0.68      0.95      0.79        86\n",
      "           7       0.29      0.67      0.40       120\n",
      "\n",
      "    accuracy                           0.52       785\n",
      "   macro avg       0.46      0.50      0.46       785\n",
      "weighted avg       0.48      0.52      0.47       785\n",
      "\n"
     ]
    },
    {
     "name": "stderr",
     "output_type": "stream",
     "text": [
      "c:\\Users\\timmy\\Downloads\\DS-interview-part-2\\venv\\lib\\site-packages\\sklearn\\metrics\\_classification.py:1509: UndefinedMetricWarning: Precision is ill-defined and being set to 0.0 in labels with no predicted samples. Use `zero_division` parameter to control this behavior.\n",
      "  _warn_prf(average, modifier, f\"{metric.capitalize()} is\", len(result))\n",
      "c:\\Users\\timmy\\Downloads\\DS-interview-part-2\\venv\\lib\\site-packages\\sklearn\\metrics\\_classification.py:1509: UndefinedMetricWarning: Precision is ill-defined and being set to 0.0 in labels with no predicted samples. Use `zero_division` parameter to control this behavior.\n",
      "  _warn_prf(average, modifier, f\"{metric.capitalize()} is\", len(result))\n",
      "c:\\Users\\timmy\\Downloads\\DS-interview-part-2\\venv\\lib\\site-packages\\sklearn\\metrics\\_classification.py:1509: UndefinedMetricWarning: Precision is ill-defined and being set to 0.0 in labels with no predicted samples. Use `zero_division` parameter to control this behavior.\n",
      "  _warn_prf(average, modifier, f\"{metric.capitalize()} is\", len(result))\n"
     ]
    }
   ],
   "source": [
    "from sklearn.metrics import classification_report\n",
    "\n",
    "# Set the model to evaluation mode\n",
    "model.eval()\n",
    "\n",
    "true_labels_train = []\n",
    "predicted_labels_train = []\n",
    "\n",
    "# Iterate through the training data\n",
    "with torch.no_grad():\n",
    "    for images, labels in trainLoader:\n",
    "        images = images.to(device)\n",
    "        labels = labels.to(device)\n",
    "        \n",
    "        # Forward pass\n",
    "        outputs = model(images)\n",
    "        \n",
    "        # Get predicted labels\n",
    "        _, predicted = torch.max(outputs, 1)\n",
    "        \n",
    "        # Append true and predicted labels\n",
    "        true_labels_train.extend(labels.cpu().numpy())\n",
    "        predicted_labels_train.extend(predicted.cpu().numpy())\n",
    "\n",
    "# Generate classification report for training set\n",
    "report_train = classification_report(true_labels_train, predicted_labels_train)\n",
    "\n",
    "print(\"Classification Report for Training Set:\")\n",
    "print(report_train)\n"
   ]
  },
  {
   "cell_type": "code",
   "execution_count": 17,
   "metadata": {},
   "outputs": [
    {
     "name": "stdout",
     "output_type": "stream",
     "text": [
      "Test accuracy: 52.27%\n"
     ]
    }
   ],
   "source": [
    "correct = 0\n",
    "total = 0\n",
    "\n",
    "# Set the model to evaluation mode\n",
    "model.eval()\n",
    "\n",
    "# Iterate through the test data\n",
    "with torch.no_grad():\n",
    "    for images, labels in testLoader:\n",
    "        images = images.to(device)\n",
    "        labels = labels.to(device)\n",
    "        \n",
    "        # Forward pass\n",
    "        outputs = model(images)\n",
    "        \n",
    "        # Get predicted labels\n",
    "        _, predicted = torch.max(outputs, 1)\n",
    "        \n",
    "        # Count correct predictions\n",
    "        correct += (predicted == labels).sum().item()\n",
    "        \n",
    "        # Count total number of samples\n",
    "        total += labels.size(0)\n",
    "\n",
    "# Calculate accuracy\n",
    "test_accuracy = correct / total * 100\n",
    "print(f'Test accuracy: {test_accuracy:.2f}%')\n"
   ]
  },
  {
   "cell_type": "code",
   "execution_count": 18,
   "metadata": {},
   "outputs": [
    {
     "name": "stdout",
     "output_type": "stream",
     "text": [
      "Classification Report for Test Set:\n",
      "              precision    recall  f1-score   support\n",
      "\n",
      "           0       0.77      0.71      0.74        14\n",
      "           1       0.00      0.00      0.00         9\n",
      "           2       0.46      0.67      0.55         9\n",
      "           3       0.67      0.25      0.36         8\n",
      "           4       0.00      0.00      0.00        12\n",
      "           5       0.73      0.57      0.64        14\n",
      "           6       0.69      1.00      0.81        11\n",
      "           7       0.31      0.91      0.47        11\n",
      "\n",
      "    accuracy                           0.53        88\n",
      "   macro avg       0.45      0.51      0.45        88\n",
      "weighted avg       0.47      0.53      0.47        88\n",
      "\n"
     ]
    },
    {
     "name": "stderr",
     "output_type": "stream",
     "text": [
      "c:\\Users\\timmy\\Downloads\\DS-interview-part-2\\venv\\lib\\site-packages\\sklearn\\metrics\\_classification.py:1509: UndefinedMetricWarning: Precision is ill-defined and being set to 0.0 in labels with no predicted samples. Use `zero_division` parameter to control this behavior.\n",
      "  _warn_prf(average, modifier, f\"{metric.capitalize()} is\", len(result))\n",
      "c:\\Users\\timmy\\Downloads\\DS-interview-part-2\\venv\\lib\\site-packages\\sklearn\\metrics\\_classification.py:1509: UndefinedMetricWarning: Precision is ill-defined and being set to 0.0 in labels with no predicted samples. Use `zero_division` parameter to control this behavior.\n",
      "  _warn_prf(average, modifier, f\"{metric.capitalize()} is\", len(result))\n",
      "c:\\Users\\timmy\\Downloads\\DS-interview-part-2\\venv\\lib\\site-packages\\sklearn\\metrics\\_classification.py:1509: UndefinedMetricWarning: Precision is ill-defined and being set to 0.0 in labels with no predicted samples. Use `zero_division` parameter to control this behavior.\n",
      "  _warn_prf(average, modifier, f\"{metric.capitalize()} is\", len(result))\n"
     ]
    }
   ],
   "source": [
    "# Set the model to evaluation mode\n",
    "model.eval()\n",
    "\n",
    "true_labels_test = []\n",
    "predicted_labels_test = []\n",
    "\n",
    "# Iterate through the test data\n",
    "with torch.no_grad():\n",
    "    for images, labels in testLoader:\n",
    "        images = images.to(device)\n",
    "        labels = labels.to(device)\n",
    "        \n",
    "        # Forward pass\n",
    "        outputs = model(images)\n",
    "        \n",
    "        # Get predicted labels\n",
    "        _, predicted = torch.max(outputs, 1)\n",
    "        \n",
    "        # Append true and predicted labels\n",
    "        true_labels_test.extend(labels.cpu().numpy())\n",
    "        predicted_labels_test.extend(predicted.cpu().numpy())\n",
    "\n",
    "# Generate classification report for test set\n",
    "report_test = classification_report(true_labels_test, predicted_labels_test)\n",
    "\n",
    "print(\"Classification Report for Test Set:\")\n",
    "print(report_test)\n"
   ]
  },
  {
   "cell_type": "markdown",
   "metadata": {},
   "source": [
    "## ResNet 18"
   ]
  },
  {
   "cell_type": "code",
   "execution_count": 19,
   "metadata": {},
   "outputs": [],
   "source": [
    "class BasicBlock(nn.Module):\n",
    "  \"\"\"A basic building block for ResNet.\"\"\"\n",
    "\n",
    "  def __init__(self, in_channels, out_channels, stride=1):\n",
    "    super(BasicBlock, self).__init__()\n",
    "\n",
    "    self.conv1 = nn.Conv2d(in_channels, out_channels, kernel_size=3, stride=stride, padding=1, bias=False)\n",
    "    self.bn1 = nn.BatchNorm2d(out_channels)\n",
    "    self.relu1 = nn.ReLU(inplace=True)\n",
    "\n",
    "    self.conv2 = nn.Conv2d(out_channels, out_channels, kernel_size=3, padding=1, bias=False)\n",
    "    self.bn2 = nn.BatchNorm2d(out_channels)\n",
    "\n",
    "    self.shortcut = nn.Sequential()  # Identity shortcut for residual connection\n",
    "\n",
    "    # If increasing feature map size, add padding layer to shortcut\n",
    "    if stride != 1 or in_channels != out_channels:\n",
    "      self.shortcut = nn.Sequential(\n",
    "          nn.Conv2d(in_channels, out_channels, kernel_size=1, stride=stride, bias=False),\n",
    "          nn.BatchNorm2d(out_channels)\n",
    "      )\n",
    "\n",
    "  def forward(self, x):\n",
    "    out = self.conv1(x)\n",
    "    out = self.bn1(out)\n",
    "    out = self.relu1(out)\n",
    "\n",
    "    out = self.conv2(out)\n",
    "    out = self.bn2(out)\n",
    "\n",
    "    out += self.shortcut(x)  # Residual connection\n",
    "    out = self.relu1(out)\n",
    "    return out\n",
    "\n",
    "\n",
    "class ResNet18(nn.Module):\n",
    "  \"\"\"A basic ResNet-18 architecture.\"\"\"\n",
    "\n",
    "  def __init__(self, num_classes=8):\n",
    "    super(ResNet18, self).__init__()\n",
    "\n",
    "    self.in_channels = 64\n",
    "\n",
    "    self.conv1 = nn.Sequential(\n",
    "        nn.Conv2d(3, 64, kernel_size=7, stride=2, padding=3, bias=False),\n",
    "        nn.BatchNorm2d(64),\n",
    "        nn.ReLU(inplace=True)\n",
    "    )\n",
    "\n",
    "    self.pool = nn.MaxPool2d(kernel_size=3, stride=2, padding=1)\n",
    "\n",
    "    self.layer1 = self._make_layer(BasicBlock, 64, 128, 2)\n",
    "    self.layer2 = self._make_layer(BasicBlock, 128, 256, 2)\n",
    "    self.layer3 = self._make_layer(BasicBlock, 256, 512, 2)\n",
    "    self.layer4 = self._make_layer(BasicBlock, 512, 512, 2)\n",
    "\n",
    "    self.avgpool = nn.AdaptiveAvgPool2d((1, 1))\n",
    "    self.fc = nn.Linear(512, num_classes)\n",
    "\n",
    "  def _make_layer(self, block_class, in_channels, out_channels, blocks, stride=1):\n",
    "    \"\"\"\n",
    "    Helper function to build a stack of ResNet blocks.\n",
    "    \"\"\"\n",
    "    layers = []\n",
    "    layers.append(block_class(in_channels, out_channels, stride))\n",
    "    for _ in range(1, blocks):\n",
    "      layers.append(block_class(out_channels, out_channels, 1))\n",
    "    return nn.Sequential(*layers)\n",
    "\n",
    "  def forward(self, x):\n",
    "    out = self.conv1(x)\n",
    "    out = self.pool(out)\n",
    "\n",
    "    out = self.layer1(out)\n",
    "    out = self.layer2(out)\n",
    "    out = self.layer3(out)\n",
    "    out = self.layer4(out)\n",
    "\n",
    "    out = self.avgpool(out)\n",
    "    out = torch.flatten(out, 1)\n",
    "    out = self.fc(out)\n",
    "    return out\n"
   ]
  },
  {
   "cell_type": "code",
   "execution_count": 20,
   "metadata": {},
   "outputs": [],
   "source": [
    "seed = torch.initial_seed()\n",
    "# create model\n",
    "model = ResNet18()\n",
    "model = model.to(device)"
   ]
  },
  {
   "cell_type": "code",
   "execution_count": 21,
   "metadata": {},
   "outputs": [
    {
     "name": "stdout",
     "output_type": "stream",
     "text": [
      "ResNet18(\n",
      "  (conv1): Sequential(\n",
      "    (0): Conv2d(3, 64, kernel_size=(7, 7), stride=(2, 2), padding=(3, 3), bias=False)\n",
      "    (1): BatchNorm2d(64, eps=1e-05, momentum=0.1, affine=True, track_running_stats=True)\n",
      "    (2): ReLU(inplace=True)\n",
      "  )\n",
      "  (pool): MaxPool2d(kernel_size=3, stride=2, padding=1, dilation=1, ceil_mode=False)\n",
      "  (layer1): Sequential(\n",
      "    (0): BasicBlock(\n",
      "      (conv1): Conv2d(64, 128, kernel_size=(3, 3), stride=(1, 1), padding=(1, 1), bias=False)\n",
      "      (bn1): BatchNorm2d(128, eps=1e-05, momentum=0.1, affine=True, track_running_stats=True)\n",
      "      (relu1): ReLU(inplace=True)\n",
      "      (conv2): Conv2d(128, 128, kernel_size=(3, 3), stride=(1, 1), padding=(1, 1), bias=False)\n",
      "      (bn2): BatchNorm2d(128, eps=1e-05, momentum=0.1, affine=True, track_running_stats=True)\n",
      "      (shortcut): Sequential(\n",
      "        (0): Conv2d(64, 128, kernel_size=(1, 1), stride=(1, 1), bias=False)\n",
      "        (1): BatchNorm2d(128, eps=1e-05, momentum=0.1, affine=True, track_running_stats=True)\n",
      "      )\n",
      "    )\n",
      "    (1): BasicBlock(\n",
      "      (conv1): Conv2d(128, 128, kernel_size=(3, 3), stride=(1, 1), padding=(1, 1), bias=False)\n",
      "      (bn1): BatchNorm2d(128, eps=1e-05, momentum=0.1, affine=True, track_running_stats=True)\n",
      "      (relu1): ReLU(inplace=True)\n",
      "      (conv2): Conv2d(128, 128, kernel_size=(3, 3), stride=(1, 1), padding=(1, 1), bias=False)\n",
      "      (bn2): BatchNorm2d(128, eps=1e-05, momentum=0.1, affine=True, track_running_stats=True)\n",
      "      (shortcut): Sequential()\n",
      "    )\n",
      "  )\n",
      "  (layer2): Sequential(\n",
      "    (0): BasicBlock(\n",
      "      (conv1): Conv2d(128, 256, kernel_size=(3, 3), stride=(1, 1), padding=(1, 1), bias=False)\n",
      "      (bn1): BatchNorm2d(256, eps=1e-05, momentum=0.1, affine=True, track_running_stats=True)\n",
      "      (relu1): ReLU(inplace=True)\n",
      "      (conv2): Conv2d(256, 256, kernel_size=(3, 3), stride=(1, 1), padding=(1, 1), bias=False)\n",
      "      (bn2): BatchNorm2d(256, eps=1e-05, momentum=0.1, affine=True, track_running_stats=True)\n",
      "      (shortcut): Sequential(\n",
      "        (0): Conv2d(128, 256, kernel_size=(1, 1), stride=(1, 1), bias=False)\n",
      "        (1): BatchNorm2d(256, eps=1e-05, momentum=0.1, affine=True, track_running_stats=True)\n",
      "      )\n",
      "    )\n",
      "    (1): BasicBlock(\n",
      "      (conv1): Conv2d(256, 256, kernel_size=(3, 3), stride=(1, 1), padding=(1, 1), bias=False)\n",
      "      (bn1): BatchNorm2d(256, eps=1e-05, momentum=0.1, affine=True, track_running_stats=True)\n",
      "      (relu1): ReLU(inplace=True)\n",
      "      (conv2): Conv2d(256, 256, kernel_size=(3, 3), stride=(1, 1), padding=(1, 1), bias=False)\n",
      "      (bn2): BatchNorm2d(256, eps=1e-05, momentum=0.1, affine=True, track_running_stats=True)\n",
      "      (shortcut): Sequential()\n",
      "    )\n",
      "  )\n",
      "  (layer3): Sequential(\n",
      "    (0): BasicBlock(\n",
      "      (conv1): Conv2d(256, 512, kernel_size=(3, 3), stride=(1, 1), padding=(1, 1), bias=False)\n",
      "      (bn1): BatchNorm2d(512, eps=1e-05, momentum=0.1, affine=True, track_running_stats=True)\n",
      "      (relu1): ReLU(inplace=True)\n",
      "      (conv2): Conv2d(512, 512, kernel_size=(3, 3), stride=(1, 1), padding=(1, 1), bias=False)\n",
      "      (bn2): BatchNorm2d(512, eps=1e-05, momentum=0.1, affine=True, track_running_stats=True)\n",
      "      (shortcut): Sequential(\n",
      "        (0): Conv2d(256, 512, kernel_size=(1, 1), stride=(1, 1), bias=False)\n",
      "        (1): BatchNorm2d(512, eps=1e-05, momentum=0.1, affine=True, track_running_stats=True)\n",
      "      )\n",
      "    )\n",
      "    (1): BasicBlock(\n",
      "      (conv1): Conv2d(512, 512, kernel_size=(3, 3), stride=(1, 1), padding=(1, 1), bias=False)\n",
      "      (bn1): BatchNorm2d(512, eps=1e-05, momentum=0.1, affine=True, track_running_stats=True)\n",
      "      (relu1): ReLU(inplace=True)\n",
      "      (conv2): Conv2d(512, 512, kernel_size=(3, 3), stride=(1, 1), padding=(1, 1), bias=False)\n",
      "      (bn2): BatchNorm2d(512, eps=1e-05, momentum=0.1, affine=True, track_running_stats=True)\n",
      "      (shortcut): Sequential()\n",
      "    )\n",
      "  )\n",
      "  (layer4): Sequential(\n",
      "    (0): BasicBlock(\n",
      "      (conv1): Conv2d(512, 512, kernel_size=(3, 3), stride=(1, 1), padding=(1, 1), bias=False)\n",
      "      (bn1): BatchNorm2d(512, eps=1e-05, momentum=0.1, affine=True, track_running_stats=True)\n",
      "      (relu1): ReLU(inplace=True)\n",
      "      (conv2): Conv2d(512, 512, kernel_size=(3, 3), stride=(1, 1), padding=(1, 1), bias=False)\n",
      "      (bn2): BatchNorm2d(512, eps=1e-05, momentum=0.1, affine=True, track_running_stats=True)\n",
      "      (shortcut): Sequential()\n",
      "    )\n",
      "    (1): BasicBlock(\n",
      "      (conv1): Conv2d(512, 512, kernel_size=(3, 3), stride=(1, 1), padding=(1, 1), bias=False)\n",
      "      (bn1): BatchNorm2d(512, eps=1e-05, momentum=0.1, affine=True, track_running_stats=True)\n",
      "      (relu1): ReLU(inplace=True)\n",
      "      (conv2): Conv2d(512, 512, kernel_size=(3, 3), stride=(1, 1), padding=(1, 1), bias=False)\n",
      "      (bn2): BatchNorm2d(512, eps=1e-05, momentum=0.1, affine=True, track_running_stats=True)\n",
      "      (shortcut): Sequential()\n",
      "    )\n",
      "  )\n",
      "  (avgpool): AdaptiveAvgPool2d(output_size=(1, 1))\n",
      "  (fc): Linear(in_features=512, out_features=8, bias=True)\n",
      ")\n"
     ]
    }
   ],
   "source": [
    "print(model)"
   ]
  },
  {
   "cell_type": "code",
   "execution_count": 22,
   "metadata": {},
   "outputs": [],
   "source": [
    "optimizer = optim.Adam(model.parameters(), lr=0.0001)\n",
    "criterion = nn.CrossEntropyLoss()"
   ]
  },
  {
   "cell_type": "code",
   "execution_count": 23,
   "metadata": {},
   "outputs": [
    {
     "name": "stdout",
     "output_type": "stream",
     "text": [
      "Epoch: 0 | Train Loss: 1.5368927717208862\n",
      "Epoch: 1 | Train Loss: 1.2673275699982276\n",
      "Epoch: 2 | Train Loss: 1.0355117000066316\n",
      "Epoch: 3 | Train Loss: 0.9687307752095736\n",
      "Epoch: 4 | Train Loss: 0.8096514390065119\n",
      "Epoch: 5 | Train Loss: 0.7114783846415006\n",
      "Epoch: 6 | Train Loss: 0.6822187900543213\n",
      "Epoch: 7 | Train Loss: 0.5903596671727988\n",
      "Epoch: 8 | Train Loss: 0.5911454329123864\n",
      "Epoch: 9 | Train Loss: 0.5825311839580536\n",
      "Epoch: 10 | Train Loss: 0.4581428514077113\n",
      "Epoch: 11 | Train Loss: 0.4301915317773819\n",
      "Epoch: 12 | Train Loss: 0.3772742301225662\n",
      "Epoch: 13 | Train Loss: 0.3485136307202853\n",
      "Epoch: 14 | Train Loss: 0.2866777708897224\n",
      "Epoch: 15 | Train Loss: 0.3028712226794316\n",
      "Epoch: 16 | Train Loss: 0.2644676611973689\n",
      "Epoch: 17 | Train Loss: 0.24803030548187402\n",
      "Epoch: 18 | Train Loss: 0.22736182522315246\n",
      "Epoch: 19 | Train Loss: 0.20567262631196243\n",
      "Epoch: 20 | Train Loss: 0.27065184024664074\n",
      "Epoch: 21 | Train Loss: 0.18647020539412132\n",
      "Epoch: 22 | Train Loss: 0.1873572228046564\n",
      "Epoch: 23 | Train Loss: 0.23323006584094122\n",
      "Epoch: 24 | Train Loss: 0.22295799507544592\n",
      "Epoch: 25 | Train Loss: 0.21929956857974714\n",
      "Epoch: 26 | Train Loss: 0.16054300906566474\n",
      "Epoch: 27 | Train Loss: 0.1584340620499391\n",
      "Epoch: 28 | Train Loss: 0.1293617102962274\n",
      "Epoch: 29 | Train Loss: 0.09473168104887009\n"
     ]
    }
   ],
   "source": [
    "epochs = 30\n",
    "train_loss = []\n",
    "\n",
    "for epoch in range(epochs):\n",
    "   \n",
    "    total_train_loss = 0\n",
    "    \n",
    "    # training our model\n",
    "    for idx, (image, label) in enumerate(trainLoader):\n",
    "        image, label = image.to(device), label.to(device)\n",
    "\n",
    "        optimizer.zero_grad()\n",
    "        pred = model(image)\n",
    "\n",
    "        loss = criterion(pred, label)\n",
    "        total_train_loss += loss.item()\n",
    "\n",
    "        loss.backward()\n",
    "        optimizer.step()\n",
    "\n",
    "    total_train_loss = total_train_loss / (idx + 1)\n",
    "    train_loss.append(total_train_loss)\n",
    "\n",
    "    print(f'Epoch: {epoch} | Train Loss: {total_train_loss}')"
   ]
  },
  {
   "cell_type": "code",
   "execution_count": 24,
   "metadata": {},
   "outputs": [
    {
     "data": {
      "text/plain": [
       "[<matplotlib.lines.Line2D at 0x234b22e81f0>]"
      ]
     },
     "execution_count": 24,
     "metadata": {},
     "output_type": "execute_result"
    },
    {
     "data": {
      "image/png": "[encoded data removed]",
      "text/plain": [
       "<Figure size 640x480 with 1 Axes>"
      ]
     },
     "metadata": {},
     "output_type": "display_data"
    }
   ],
   "source": [
    "plt.plot(train_loss)"
   ]
  },
  {
   "cell_type": "code",
   "execution_count": 25,
   "metadata": {},
   "outputs": [
    {
     "name": "stdout",
     "output_type": "stream",
     "text": [
      "Classification Report for Training Set:\n",
      "              precision    recall  f1-score   support\n",
      "\n",
      "           0       1.00      0.98      0.99        92\n",
      "           1       0.64      1.00      0.78        86\n",
      "           2       0.97      0.84      0.90       101\n",
      "           3       0.94      0.99      0.97       112\n",
      "           4       1.00      0.81      0.89        84\n",
      "           5       0.96      0.94      0.95       104\n",
      "           6       1.00      0.99      0.99        86\n",
      "           7       1.00      0.83      0.91       120\n",
      "\n",
      "    accuracy                           0.92       785\n",
      "   macro avg       0.94      0.92      0.92       785\n",
      "weighted avg       0.94      0.92      0.92       785\n",
      "\n"
     ]
    }
   ],
   "source": [
    "from sklearn.metrics import classification_report\n",
    "\n",
    "# Set the model to evaluation mode\n",
    "model.eval()\n",
    "\n",
    "true_labels_train = []\n",
    "predicted_labels_train = []\n",
    "\n",
    "# Iterate through the training data\n",
    "with torch.no_grad():\n",
    "    for images, labels in trainLoader:\n",
    "        images = images.to(device)\n",
    "        labels = labels.to(device)\n",
    "        \n",
    "        # Forward pass\n",
    "        outputs = model(images)\n",
    "        \n",
    "        # Get predicted labels\n",
    "        _, predicted = torch.max(outputs, 1)\n",
    "        \n",
    "        # Append true and predicted labels\n",
    "        true_labels_train.extend(labels.cpu().numpy())\n",
    "        predicted_labels_train.extend(predicted.cpu().numpy())\n",
    "\n",
    "# Generate classification report for training set\n",
    "report_train = classification_report(true_labels_train, predicted_labels_train)\n",
    "\n",
    "print(\"Classification Report for Training Set:\")\n",
    "print(report_train)\n"
   ]
  },
  {
   "cell_type": "code",
   "execution_count": 26,
   "metadata": {},
   "outputs": [
    {
     "name": "stdout",
     "output_type": "stream",
     "text": [
      "Classification Report for Test Set:\n",
      "              precision    recall  f1-score   support\n",
      "\n",
      "           0       0.82      1.00      0.90        14\n",
      "           1       0.44      0.89      0.59         9\n",
      "           2       0.38      0.33      0.35         9\n",
      "           3       0.73      1.00      0.84         8\n",
      "           4       0.80      0.33      0.47        12\n",
      "           5       0.73      0.57      0.64        14\n",
      "           6       1.00      0.91      0.95        11\n",
      "           7       0.88      0.64      0.74        11\n",
      "\n",
      "    accuracy                           0.70        88\n",
      "   macro avg       0.72      0.71      0.69        88\n",
      "weighted avg       0.74      0.70      0.69        88\n",
      "\n"
     ]
    }
   ],
   "source": [
    "# Set the model to evaluation mode\n",
    "model.eval()\n",
    "\n",
    "true_labels_test = []\n",
    "predicted_labels_test = []\n",
    "\n",
    "# Iterate through the test data\n",
    "with torch.no_grad():\n",
    "    for images, labels in testLoader:\n",
    "        images = images.to(device)\n",
    "        labels = labels.to(device)\n",
    "        \n",
    "        # Forward pass\n",
    "        outputs = model(images)\n",
    "        \n",
    "        # Get predicted labels\n",
    "        _, predicted = torch.max(outputs, 1)\n",
    "        \n",
    "        # Append true and predicted labels\n",
    "        true_labels_test.extend(labels.cpu().numpy())\n",
    "        predicted_labels_test.extend(predicted.cpu().numpy())\n",
    "\n",
    "# Generate classification report for test set\n",
    "report_test = classification_report(true_labels_test, predicted_labels_test)\n",
    "\n",
    "print(\"Classification Report for Test Set:\")\n",
    "print(report_test)\n"
   ]
  },
  {
   "cell_type": "markdown",
   "metadata": {},
   "source": [
    "## This is the best model"
   ]
  },
  {
   "cell_type": "code",
   "execution_count": 27,
   "metadata": {},
   "outputs": [],
   "source": [
    "import torch\n",
    "\n",
    "# Assuming your model is named 'model' and you want to save it after training\n",
    "def save_model(model, path):\n",
    "  \"\"\"Saves the model's state dictionary to a file.\"\"\"\n",
    "  torch.save(model.state_dict(), path)\n",
    "\n",
    "# Example usage after training loop\n",
    "save_model(model, \"my_model_weights.pth\")  # Replace with your desired path\n"
   ]
  },
  {
   "cell_type": "markdown",
   "metadata": {},
   "source": [
    "## Inference"
   ]
  },
  {
   "cell_type": "code",
   "execution_count": 42,
   "metadata": {},
   "outputs": [],
   "source": [
    "import torch\n",
    "from torchvision import transforms\n",
    "import cv2\n",
    "from PIL import Image\n",
    "\n",
    "\n",
    "def preprocess_image(img_path):\n",
    "  \"\"\"Preprocesses an image for inference.\"\"\"\n",
    "  img = cv2.imread(img_path)\n",
    "  if img is None:\n",
    "    raise ValueError(f\"Failed to load image: {img_path}\")\n",
    "\n",
    "  # Convert OpenCV BGR image to RGB (expected by torchvision)\n",
    "  img = cv2.cvtColor(img, cv2.COLOR_BGR2RGB)\n",
    "  img = Image.fromarray(img)  # Convert NumPy array to PIL Image\n",
    "\n",
    "  resize = transforms.Resize((224, 224))  # Assuming AlexNet\n",
    "  normalize = transforms.Normalize(mean=[0.5, 0.5, 0.5], std=[0.5, 0.5, 0.5])\n",
    "  preprocess = transforms.Compose([resize, transforms.ToTensor(), normalize])\n",
    "  img_tensor = preprocess(img).unsqueeze(0)  # Add batch dimension\n",
    "  return img_tensor.to(device)  # Move to same device as the model\n",
    "\n",
    "\n",
    "def predict(model_path, img_path):\n",
    "  \"\"\"Loads the model and makes inference on an image.\"\"\"\n",
    "  # Load the model state dictionary\n",
    "  model = ResNet18()\n",
    "  model = model.to(device) \n",
    "  model.load_state_dict(torch.load(model_path))\n",
    "  model.eval()\n",
    "\n",
    "  # Preprocess the image\n",
    "  img_tensor = preprocess_image(img_path)\n",
    "\n",
    "  # Perform inference\n",
    "  with torch.no_grad():\n",
    "    output = model(img_tensor)\n",
    "\n",
    "  # Get the predicted class label (assuming you have 2 classes)\n",
    "  predicted_class = torch.argmax(output, dim=1).item()\n",
    "  return predicted_class\n"
   ]
  },
  {
   "cell_type": "code",
   "execution_count": 40,
   "metadata": {},
   "outputs": [
    {
     "name": "stdout",
     "output_type": "stream",
     "text": [
      "Loaded image: True\n"
     ]
    }
   ],
   "source": [
    "image = '../Images/Pencil_Eraser/41wTYwT1MdL._AC_UL320_.jpg'\n",
    "img = cv2.imread(image)\n",
    "print(f\"Loaded image: {img is not None}\") "
   ]
  },
  {
   "cell_type": "code",
   "execution_count": 41,
   "metadata": {},
   "outputs": [
    {
     "data": {
      "text/plain": [
       "tensor([[[[1.0000, 1.0000, 1.0000,  ..., 1.0000, 1.0000, 1.0000],\n",
       "          [1.0000, 1.0000, 1.0000,  ..., 1.0000, 1.0000, 1.0000],\n",
       "          [1.0000, 1.0000, 1.0000,  ..., 1.0000, 1.0000, 1.0000],\n",
       "          ...,\n",
       "          [0.9529, 0.9608, 0.9686,  ..., 1.0000, 1.0000, 1.0000],\n",
       "          [0.9216, 0.9373, 0.9451,  ..., 1.0000, 1.0000, 1.0000],\n",
       "          [0.9843, 0.9843, 0.9843,  ..., 1.0000, 1.0000, 1.0000]],\n",
       "\n",
       "         [[1.0000, 1.0000, 1.0000,  ..., 1.0000, 1.0000, 1.0000],\n",
       "          [1.0000, 1.0000, 1.0000,  ..., 1.0000, 1.0000, 1.0000],\n",
       "          [1.0000, 1.0000, 1.0000,  ..., 1.0000, 1.0000, 1.0000],\n",
       "          ...,\n",
       "          [0.9529, 0.9608, 0.9686,  ..., 1.0000, 1.0000, 1.0000],\n",
       "          [0.9216, 0.9373, 0.9451,  ..., 1.0000, 1.0000, 1.0000],\n",
       "          [0.9843, 0.9843, 0.9843,  ..., 1.0000, 1.0000, 1.0000]],\n",
       "\n",
       "         [[1.0000, 1.0000, 1.0000,  ..., 1.0000, 1.0000, 1.0000],\n",
       "          [1.0000, 1.0000, 1.0000,  ..., 1.0000, 1.0000, 1.0000],\n",
       "          [1.0000, 1.0000, 1.0000,  ..., 1.0000, 1.0000, 1.0000],\n",
       "          ...,\n",
       "          [0.9529, 0.9608, 0.9686,  ..., 1.0000, 1.0000, 1.0000],\n",
       "          [0.9216, 0.9373, 0.9451,  ..., 1.0000, 1.0000, 1.0000],\n",
       "          [0.9843, 0.9843, 0.9843,  ..., 1.0000, 1.0000, 1.0000]]]],\n",
       "       device='cuda:0')"
      ]
     },
     "execution_count": 41,
     "metadata": {},
     "output_type": "execute_result"
    }
   ],
   "source": [
    "preprocess_image(image)"
   ]
  },
  {
   "cell_type": "code",
   "execution_count": 43,
   "metadata": {},
   "outputs": [
    {
     "name": "stdout",
     "output_type": "stream",
     "text": [
      "Predicted class: 5\n"
     ]
    }
   ],
   "source": [
    "# Example usage\n",
    "image = '../Images/Pencil_Eraser/41wTYwT1MdL._AC_UL320_.jpg'\n",
    "predicted_class = predict(\"my_model_weights.pth\", image)\n",
    "print(f\"Predicted class: {predicted_class}\")"
   ]
  },
  {
   "cell_type": "code",
   "execution_count": 45,
   "metadata": {},
   "outputs": [
    {
     "name": "stdout",
     "output_type": "stream",
     "text": [
      "../static\\image-4.jpg\n"
     ]
    }
   ],
   "source": [
    "import os\n",
    "\n",
    "def get_most_recent_file(folder_path='../static'):\n",
    "    # List all files in the folder\n",
    "    files = os.listdir(folder_path)\n",
    "    \n",
    "    # Filter out directories from the list of files\n",
    "    files = [file for file in files if os.path.isfile(os.path.join(folder_path, file))]\n",
    "    \n",
    "    # Sort files based on modification time\n",
    "    files.sort(key=lambda x: os.path.getmtime(os.path.join(folder_path, x)), reverse=True)\n",
    "    \n",
    "    # Return the most recent file\n",
    "    if files:\n",
    "        return os.path.join(folder_path, files[0])\n",
    "    else:\n",
    "        return None\n",
    "\n",
    "\n",
    "most_recent_file = get_most_recent_file(folder_path)\n",
    "print(most_recent_file)\n"
   ]
  },
  {
   "cell_type": "code",
   "execution_count": null,
   "metadata": {},
   "outputs": [],
   "source": []
  }
 ],
 "metadata": {
  "kernelspec": {
   "display_name": "Python 3",
   "language": "python",
   "name": "python3"
  },
  "language_info": {
   "codemirror_mode": {
    "name": "ipython",
    "version": 3
   },
   "file_extension": ".py",
   "mimetype": "text/x-python",
   "name": "python",
   "nbconvert_exporter": "python",
   "pygments_lexer": "ipython3",
   "version": "3.10.14"
  }
 },
 "nbformat": 4,
 "nbformat_minor": 2
}
